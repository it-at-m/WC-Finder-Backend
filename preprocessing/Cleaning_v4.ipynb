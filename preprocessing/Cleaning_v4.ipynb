{
 "cells": [
  {
   "cell_type": "code",
   "execution_count": 51,
   "id": "4cdcf421",
   "metadata": {},
   "outputs": [],
   "source": [
    "import pandas as pd"
   ]
  },
  {
   "cell_type": "code",
   "execution_count": 52,
   "id": "53b5edde",
   "metadata": {},
   "outputs": [],
   "source": [
    "df = pd.read_csv(\"dpschool2a.csv\", delimiter=\";\")"
   ]
  },
  {
   "cell_type": "code",
   "execution_count": null,
   "id": "da2e5beb",
   "metadata": {},
   "outputs": [],
   "source": []
  },
  {
   "cell_type": "code",
   "execution_count": 53,
   "id": "e14ef857",
   "metadata": {},
   "outputs": [],
   "source": [
    "df = df[['title', 'short_description', 'description', 'latitude', 'longitude', 'address', 'addr_no', \n",
    "         'zip_code', 'city', 'country', 'additional_fields', 'image', 'icons', 'modified']]"
   ]
  },
  {
   "cell_type": "code",
   "execution_count": 54,
   "id": "f70b4e50",
   "metadata": {},
   "outputs": [],
   "source": [
    "import json\n",
    "df[\"additional_fields\"] = df[\"additional_fields\"].map(lambda x: json.loads(x))\n",
    "df[\"image\"] = df[\"image\"].map(lambda x: json.loads(x))"
   ]
  },
  {
   "cell_type": "code",
   "execution_count": 55,
   "id": "ca344585",
   "metadata": {},
   "outputs": [],
   "source": [
    "df = df[df['latitude'].notna()]"
   ]
  },
  {
   "cell_type": "code",
   "execution_count": 56,
   "id": "584e809c",
   "metadata": {},
   "outputs": [],
   "source": [
    "from pandas import isnull\n",
    "df[\"icons\"] = df[\"icons\"].map(lambda x: {} if isnull(x) else x)\n",
    "df[\"icons\"] = df[\"icons\"].map(lambda x: x if isinstance(x, str) else str(x))\n",
    "df[\"icons\"] = df[\"icons\"].map(lambda x: json.loads(x))"
   ]
  },
  {
   "cell_type": "code",
   "execution_count": 57,
   "id": "d887b710",
   "metadata": {},
   "outputs": [],
   "source": [
    "df[\"modified\"] = pd.to_datetime(df[\"modified\"], errors=\"coerce\")"
   ]
  },
  {
   "cell_type": "code",
   "execution_count": 58,
   "id": "ecce9fef",
   "metadata": {},
   "outputs": [],
   "source": [
    "df['longitude'] = df['longitude'].map(lambda x: x.replace('.', \"\")[:6]).astype(float) / 10000\n",
    "df['latitude'] = df['latitude'].map(lambda x: x.replace('.', \"\")[:6]).astype(float) / 10000"
   ]
  },
  {
   "cell_type": "code",
   "execution_count": 59,
   "id": "8ab4c3f2",
   "metadata": {},
   "outputs": [],
   "source": [
    "df[\"description\"] = df[\"description\"].map(lambda x: \"\" if isnull(x) else x)\n",
    "df[\"short_description\"] = df[\"short_description\"].map(lambda x: \"\" if isnull(x) else x)\n",
    "df[\"addr_no\"] = df[\"addr_no\"].map(lambda x: \"\" if isnull(x) else x)"
   ]
  },
  {
   "cell_type": "code",
   "execution_count": 60,
   "id": "6dec452b",
   "metadata": {},
   "outputs": [],
   "source": [
    "df[\"address\"] = df[\"address\"] + \" \" + df[\"addr_no\"]"
   ]
  },
  {
   "cell_type": "code",
   "execution_count": 61,
   "id": "27ff23ca",
   "metadata": {},
   "outputs": [],
   "source": [
    "df.drop([\"addr_no\"], axis=1, inplace=True)"
   ]
  },
  {
   "cell_type": "code",
   "execution_count": 62,
   "id": "a46e2935",
   "metadata": {},
   "outputs": [],
   "source": [
    "df[\"position\"] = None\n",
    "for i in df.index:\n",
    "    df.at[i, 'position'] = (df.loc[i]['latitude'], df.loc[i]['longitude'])"
   ]
  },
  {
   "cell_type": "code",
   "execution_count": 63,
   "id": "eb133c01",
   "metadata": {},
   "outputs": [],
   "source": [
    "icons = {\"Toilette für Alle\": 10, \"Rolli WC\": 11, \"Rolli WC -DIN fern\": 20, \"WC eng\": 17, \"kein Rolli WC vorhanden\": 21,\n",
    "        \"Parken\": 7, \"Stufe\": 1, \"WC - unisex\": 4, \"WC getrennt\": 6, \"Rollstuhl\": 5, \"Lift groß\": 12, \"Lift klein\": 13,\n",
    "        \"Kino-Untertitel\": 15, \"Induktionsschleife\": 14, \"low-vision\": 18, \"kognitiv beeinträchtigt\": 19, \"Umkleide\": 9,\n",
    "        \"Dusche\": 8, \"nicht rollstuhlgerecht\": 16, \"Rampe\": 2, \"keine Steigung - eben\": 26, \"moderate Steigung / Gefälle\": 22,\n",
    "        \"weitere moderate Steigungen / Gefälle\": 23, \"heftige Steigung / Gefälle\": 25, \"weitere heftige Steigung / Gefälle\": 24}\n",
    "new_dict = {v: k for k, v in icons.items()}\n",
    "new_dict.update({40: \"Euro Key\", 41: \"Ramp Incline\", 42: \"Door Width\"})"
   ]
  },
  {
   "cell_type": "code",
   "execution_count": 64,
   "id": "3c9211ac",
   "metadata": {},
   "outputs": [],
   "source": [
    "df[\"icons\"] = df[\"icons\"].map(lambda x: tuple(map(int, list(x.values()))))"
   ]
  },
  {
   "cell_type": "code",
   "execution_count": 65,
   "id": "21f4ee5e",
   "metadata": {},
   "outputs": [],
   "source": [
    "df[40] = df[\"additional_fields\"].map(lambda x: x[\"wc_euro\"] if \"wc_euro\" in x.keys() else \"0\")\n",
    "df[40] = df[40].map(lambda x: int(x) if x in [\"1\", \"0\"] else 0)"
   ]
  },
  {
   "cell_type": "code",
   "execution_count": 66,
   "id": "f21d5e24",
   "metadata": {},
   "outputs": [],
   "source": [
    "def isfloat(value):\n",
    "  try:\n",
    "    float(value)\n",
    "    return True\n",
    "  except ValueError:\n",
    "    return False\n",
    "\n",
    "df[41] = df[\"additional_fields\"].map(lambda x: x[\"wc_ramp_incline\"])\n",
    "df[41] = df[41].map(lambda x: x.replace(\",\",\".\"))\n",
    "df[41] = df[41].map(lambda x: float(x) if isfloat(x) else 0)\n",
    "#need to check further as some have extra text"
   ]
  },
  {
   "cell_type": "code",
   "execution_count": 67,
   "id": "9b4f0bb5",
   "metadata": {},
   "outputs": [],
   "source": [
    "df[42] = df[\"additional_fields\"].map(lambda x: x[\"wc_door_width\"])\n",
    "df[42] = df[42].map(lambda x: int(x) if x != \"\" else 150)\n",
    "df[42] = df[42].map(lambda x: x if x > 15 else x*10)"
   ]
  },
  {
   "cell_type": "code",
   "execution_count": 68,
   "id": "0e8adda4",
   "metadata": {},
   "outputs": [],
   "source": [
    "x = pd.get_dummies(df.icons.apply(pd.Series).stack()).sum(level=0)\n",
    "x = x.rename(int, axis=\"columns\")\n",
    "col = list(x.columns)\n",
    "for i in [40, 41, 42]:\n",
    "    col.append(i)"
   ]
  },
  {
   "cell_type": "code",
   "execution_count": null,
   "id": "9705af47",
   "metadata": {},
   "outputs": [],
   "source": []
  },
  {
   "cell_type": "code",
   "execution_count": 69,
   "id": "91a48797",
   "metadata": {},
   "outputs": [],
   "source": [
    "df = df.rename(columns={40:\"eurokey\", 41: \"ramp_steepness\", 42: \"door_width\"})"
   ]
  },
  {
   "cell_type": "code",
   "execution_count": 70,
   "id": "f84983fb",
   "metadata": {},
   "outputs": [],
   "source": [
    "# df.drop([\"icons\"], axis=1, inplace=True)\n",
    "# df = pd.concat([df, x], axis=1)"
   ]
  },
  {
   "cell_type": "code",
   "execution_count": 71,
   "id": "4b20be40",
   "metadata": {
    "scrolled": false
   },
   "outputs": [],
   "source": [
    "# def check(series):\n",
    "#     x = {}\n",
    "#     for i in series.index:\n",
    "#         if i in col:\n",
    "#             x.update({i: series[i]})\n",
    "#         else:\n",
    "#             continue\n",
    "#     return x"
   ]
  },
  {
   "cell_type": "code",
   "execution_count": 72,
   "id": "c39c2a4e",
   "metadata": {},
   "outputs": [],
   "source": [
    "# df[\"options\"] = df.apply(lambda x: check(x), axis=1)"
   ]
  },
  {
   "cell_type": "code",
   "execution_count": 73,
   "id": "4cb8961c",
   "metadata": {},
   "outputs": [],
   "source": [
    "# df.drop(col, axis=1, inplace=True)"
   ]
  },
  {
   "cell_type": "code",
   "execution_count": 74,
   "id": "43af874c",
   "metadata": {},
   "outputs": [],
   "source": [
    "# columns = pd.DataFrame.from_dict(new_dict, orient=\"index\", columns=[\"option_name\"])\n",
    "# columns.index.name = \"id\""
   ]
  },
  {
   "cell_type": "code",
   "execution_count": 75,
   "id": "f5eb4131",
   "metadata": {},
   "outputs": [],
   "source": [
    "# columns.to_csv(\"options.csv\")"
   ]
  },
  {
   "cell_type": "code",
   "execution_count": 76,
   "id": "1d2c68ae",
   "metadata": {},
   "outputs": [],
   "source": [
    "df[\"photo\"] = df[\"image\"].map(lambda x: x[\"image_small\"])\n",
    "df[\"plan\"] = df[\"additional_fields\"].map(lambda x: \"images/wc-plan/\" + x[\"wc_plan\"] + \".jpg\")\n",
    "#df[\"seat_height\"] = df[\"additional_fields\"].map(lambda x: x[\"wc_seat\"])"
   ]
  },
  {
   "cell_type": "code",
   "execution_count": 77,
   "id": "2ecf8022",
   "metadata": {
    "scrolled": false
   },
   "outputs": [],
   "source": [
    "#df[\"seat_height\"] = df[\"seat_height\"].map(lambda x: x[:2] if x != \"\" else None)"
   ]
  },
  {
   "cell_type": "code",
   "execution_count": 78,
   "id": "6c9016ac",
   "metadata": {},
   "outputs": [],
   "source": [
    "df = df.drop(df.loc[df['icons'].isin([(21,)])].index)"
   ]
  },
  {
   "cell_type": "code",
   "execution_count": null,
   "id": "c73d24ba",
   "metadata": {},
   "outputs": [],
   "source": []
  },
  {
   "cell_type": "code",
   "execution_count": 79,
   "id": "b9891148",
   "metadata": {},
   "outputs": [],
   "source": [
    "df[\"grip\"] = df[\"additional_fields\"].map(lambda x:x[\"wc_wheregrip\"])"
   ]
  },
  {
   "cell_type": "code",
   "execution_count": null,
   "id": "016ce019",
   "metadata": {},
   "outputs": [],
   "source": []
  },
  {
   "cell_type": "code",
   "execution_count": 80,
   "id": "90718dbb",
   "metadata": {},
   "outputs": [
    {
     "data": {
      "text/plain": [
       "array(['lr', 'l', 'rfl', 'fr', 'none', 'lfr', 'flr', 'r', 'fl'],\n",
       "      dtype=object)"
      ]
     },
     "execution_count": 80,
     "metadata": {},
     "output_type": "execute_result"
    }
   ],
   "source": [
    "df[\"grip\"].unique()"
   ]
  },
  {
   "cell_type": "code",
   "execution_count": null,
   "id": "0463c8a0",
   "metadata": {},
   "outputs": [],
   "source": []
  },
  {
   "cell_type": "markdown",
   "id": "e1973cf9",
   "metadata": {},
   "source": [
    "lr = flexible left & flexible right\n",
    "\n",
    "l = flexible left\n",
    "\n",
    "rfl & flr = fixed left and flexible right\n",
    "\n",
    "fr = fixed right\n",
    "\n",
    "none = no grip\n",
    "\n",
    "lfr = flexible left and fixed right\n",
    "\n",
    "r = flexible right\n",
    "\n",
    "fl = fixed left"
   ]
  },
  {
   "cell_type": "code",
   "execution_count": null,
   "id": "00fd0bf4",
   "metadata": {},
   "outputs": [],
   "source": []
  },
  {
   "cell_type": "code",
   "execution_count": null,
   "id": "6a7586c2",
   "metadata": {},
   "outputs": [],
   "source": []
  },
  {
   "cell_type": "code",
   "execution_count": null,
   "id": "a61668db",
   "metadata": {},
   "outputs": [],
   "source": []
  },
  {
   "cell_type": "code",
   "execution_count": 81,
   "id": "d08249fd",
   "metadata": {},
   "outputs": [],
   "source": [
    "df = df[[\"title\", \"short_description\", \"photo\", \"plan\", \"position\", \"address\", \"eurokey\", \"ramp_steepness\", \"door_width\", \"zip_code\", \"city\", \"grip\"]]"
   ]
  },
  {
   "cell_type": "code",
   "execution_count": null,
   "id": "8cfc3011",
   "metadata": {},
   "outputs": [],
   "source": []
  },
  {
   "cell_type": "code",
   "execution_count": 82,
   "id": "4649b0bc",
   "metadata": {},
   "outputs": [],
   "source": [
    "errors = pd.read_excel(\"toilets_text errors.xlsx\")"
   ]
  },
  {
   "cell_type": "code",
   "execution_count": 83,
   "id": "396c5fcf",
   "metadata": {},
   "outputs": [],
   "source": [
    "errors.dropna(inplace=True)"
   ]
  },
  {
   "cell_type": "code",
   "execution_count": 84,
   "id": "bb4a507c",
   "metadata": {},
   "outputs": [
    {
     "data": {
      "text/plain": [
       "['Ãœ', 'Ã¼', 'Ã–', 'Ã¶', 'Ã„', 'Ã¤', 'ÃŸ', 'Ã©', 'Ã¨', 'Ã‡', 'â€“']"
      ]
     },
     "execution_count": 84,
     "metadata": {},
     "output_type": "execute_result"
    }
   ],
   "source": [
    "list(errors[\"Text error\"])"
   ]
  },
  {
   "cell_type": "code",
   "execution_count": 85,
   "id": "d1a2b5d3",
   "metadata": {},
   "outputs": [],
   "source": [
    "import re\n",
    "\n",
    "errors = pd.Series(errors[\"correction\"].values,index=errors[\"Text error\"]).to_dict()\n",
    "\n",
    "# use these three lines to do the replacement\n",
    "rep = dict((re.escape(k), v) for k, v in errors.items()) \n",
    "#Python 3 renamed dict.iteritems to dict.items so use rep.items() for latest versions\n",
    "pattern = re.compile(\"|\".join(rep.keys()))"
   ]
  },
  {
   "cell_type": "code",
   "execution_count": 86,
   "id": "0b058197",
   "metadata": {},
   "outputs": [],
   "source": [
    "df[\"short_description\"] = df[\"short_description\"].map(lambda x: pattern.sub(lambda m: rep[re.escape(m.group(0))], x))\n",
    "df[\"title\"] = df[\"title\"].map(lambda x: pattern.sub(lambda m: rep[re.escape(m.group(0))], x))\n",
    "df[\"address\"] = df[\"address\"].map(lambda x: pattern.sub(lambda m: rep[re.escape(m.group(0))], x))\n",
    "df[\"city\"] = df[\"city\"].map(lambda x: pattern.sub(lambda m: rep[re.escape(m.group(0))], x))"
   ]
  },
  {
   "cell_type": "code",
   "execution_count": 87,
   "id": "b1936676",
   "metadata": {},
   "outputs": [],
   "source": [
    "df = df.drop(df.loc[df['icons'].isin([(21,)])].index)"
   ]
  },
  {
   "cell_type": "code",
   "execution_count": 88,
   "id": "2fea8c69",
   "metadata": {},
   "outputs": [],
   "source": [
    "df.drop([315, 1091, 20, 1090, 1088, 1086, 1087, 1089], inplace=True)\n",
    "df.to_json(\"toilets_v9.json\")"
   ]
  },
  {
   "cell_type": "code",
   "execution_count": 105,
   "id": "75905564",
   "metadata": {},
   "outputs": [
    {
     "data": {
      "text/html": [
       "<div>\n",
       "<style scoped>\n",
       "    .dataframe tbody tr th:only-of-type {\n",
       "        vertical-align: middle;\n",
       "    }\n",
       "\n",
       "    .dataframe tbody tr th {\n",
       "        vertical-align: top;\n",
       "    }\n",
       "\n",
       "    .dataframe thead th {\n",
       "        text-align: right;\n",
       "    }\n",
       "</style>\n",
       "<table border=\"1\" class=\"dataframe\">\n",
       "  <thead>\n",
       "    <tr style=\"text-align: right;\">\n",
       "      <th></th>\n",
       "      <th>title</th>\n",
       "      <th>short_description</th>\n",
       "      <th>photo</th>\n",
       "      <th>plan</th>\n",
       "      <th>position</th>\n",
       "      <th>address</th>\n",
       "      <th>eurokey</th>\n",
       "      <th>ramp_steepness</th>\n",
       "      <th>door_width</th>\n",
       "      <th>zip_code</th>\n",
       "      <th>city</th>\n",
       "      <th>grip</th>\n",
       "      <th>id</th>\n",
       "    </tr>\n",
       "  </thead>\n",
       "  <tbody>\n",
       "    <tr>\n",
       "      <th>1</th>\n",
       "      <td>WC Bad Georgenschwaige Damen</td>\n",
       "      <td>Bedingt öffentliche Toilette in einem Freibad.</td>\n",
       "      <td>images/wc-af/ba-george1WC1f1.jpg</td>\n",
       "      <td>images/wc-plan/ba-george1WC1.jpg</td>\n",
       "      <td>(48.1756, 11.5717)</td>\n",
       "      <td>Belgradstr. 195</td>\n",
       "      <td>0</td>\n",
       "      <td>0.0</td>\n",
       "      <td>85</td>\n",
       "      <td>80804</td>\n",
       "      <td>München</td>\n",
       "      <td>lr</td>\n",
       "      <td>1</td>\n",
       "    </tr>\n",
       "    <tr>\n",
       "      <th>3</th>\n",
       "      <td>WC Freibad Unterhaching</td>\n",
       "      <td>Bedingt öffentliche Toilette mit Dusche in ein...</td>\n",
       "      <td>images/wc-af/ba-unterh1WC1f1.jpg</td>\n",
       "      <td>images/wc-plan/ba-unterh1WC.jpg</td>\n",
       "      <td>(48.0619, 11.6208)</td>\n",
       "      <td>Schrenkstr. 2</td>\n",
       "      <td>1</td>\n",
       "      <td>0.0</td>\n",
       "      <td>75</td>\n",
       "      <td>82008</td>\n",
       "      <td>Unterhaching</td>\n",
       "      <td>lr</td>\n",
       "      <td>3</td>\n",
       "    </tr>\n",
       "    <tr>\n",
       "      <th>4</th>\n",
       "      <td>WC U-Bahnhof Münchner Freiheit</td>\n",
       "      <td>Öffentliche Toilette im U-Bahnhof, zugänglich ...</td>\n",
       "      <td>images/wc-af/bf-muefre1WC1f1.jpg</td>\n",
       "      <td>images/wc-plan/bf-muefre1WC1.jpg</td>\n",
       "      <td>(48.1622, 11.587)</td>\n",
       "      <td>Münchner Freiheit</td>\n",
       "      <td>1</td>\n",
       "      <td>0.0</td>\n",
       "      <td>85</td>\n",
       "      <td>80802</td>\n",
       "      <td>München</td>\n",
       "      <td>lr</td>\n",
       "      <td>4</td>\n",
       "    </tr>\n",
       "    <tr>\n",
       "      <th>6</th>\n",
       "      <td>WC Riemer See</td>\n",
       "      <td>Öffentliche Toilette mit Pflegeliege am Badese...</td>\n",
       "      <td>images/wc-af/ba-riemer1WC1f1.jpg</td>\n",
       "      <td>images/wc-plan/ba-riemer1WC1.jpg</td>\n",
       "      <td>(48.1271, 11.7078)</td>\n",
       "      <td>Riemer See</td>\n",
       "      <td>1</td>\n",
       "      <td>0.0</td>\n",
       "      <td>95</td>\n",
       "      <td>81829</td>\n",
       "      <td>München</td>\n",
       "      <td>lr</td>\n",
       "      <td>6</td>\n",
       "    </tr>\n",
       "    <tr>\n",
       "      <th>7</th>\n",
       "      <td>WC Ostbahnhof München</td>\n",
       "      <td>Öffentliche Toilette im Bahnhof, zugänglich mi...</td>\n",
       "      <td>images/wc-af/bf-ostbah1fWC2.jpg</td>\n",
       "      <td>images/wc-plan/bf-ostbah1WC1.jpg</td>\n",
       "      <td>(48.1284, 11.6026)</td>\n",
       "      <td>Orleansplatz</td>\n",
       "      <td>1</td>\n",
       "      <td>0.0</td>\n",
       "      <td>88</td>\n",
       "      <td>81667</td>\n",
       "      <td>München</td>\n",
       "      <td>lr</td>\n",
       "      <td>7</td>\n",
       "    </tr>\n",
       "    <tr>\n",
       "      <th>...</th>\n",
       "      <td>...</td>\n",
       "      <td>...</td>\n",
       "      <td>...</td>\n",
       "      <td>...</td>\n",
       "      <td>...</td>\n",
       "      <td>...</td>\n",
       "      <td>...</td>\n",
       "      <td>...</td>\n",
       "      <td>...</td>\n",
       "      <td>...</td>\n",
       "      <td>...</td>\n",
       "      <td>...</td>\n",
       "      <td>...</td>\n",
       "    </tr>\n",
       "    <tr>\n",
       "      <th>1085</th>\n",
       "      <td>WC Boulderwelt München Süd,  Brunnthal</td>\n",
       "      <td>Halböffentliche Toilette in einer Sportstätte.</td>\n",
       "      <td>images/wc-nz/sp-boulde1WC1f2.jpg</td>\n",
       "      <td>images/wc-plan/sp-boulde1WC1.jpg</td>\n",
       "      <td>(48.0403, 11.6639)</td>\n",
       "      <td>Eugen-Sänger-Ring 4</td>\n",
       "      <td>0</td>\n",
       "      <td>0.0</td>\n",
       "      <td>90</td>\n",
       "      <td>85649</td>\n",
       "      <td>Brunnthal</td>\n",
       "      <td>lr</td>\n",
       "      <td>1085</td>\n",
       "    </tr>\n",
       "    <tr>\n",
       "      <th>1086</th>\n",
       "      <td>WC Volkstheater mit Pflegeliege</td>\n",
       "      <td>Halböffentliches WC an einem Veranstaltungsort.</td>\n",
       "      <td>images/wc-nz/ve-volkst1WC1f3.jpg</td>\n",
       "      <td>images/wc-plan/ve-volkst1WC1.jpg</td>\n",
       "      <td>(0.0, 0.0)</td>\n",
       "      <td>Tumblingerstr. 29</td>\n",
       "      <td>0</td>\n",
       "      <td>0.0</td>\n",
       "      <td>110</td>\n",
       "      <td>80337</td>\n",
       "      <td>München</td>\n",
       "      <td>lr</td>\n",
       "      <td>1086</td>\n",
       "    </tr>\n",
       "    <tr>\n",
       "      <th>1087</th>\n",
       "      <td>WC Schmock im Volkstheater</td>\n",
       "      <td>Halböffentliche Toilette in einer Gaststätte.</td>\n",
       "      <td>images/wc-nz/schmoc1WC1f2.jpg</td>\n",
       "      <td>images/wc-plan/schmoc1WC.jpg</td>\n",
       "      <td>(0.0, 0.0)</td>\n",
       "      <td>Tumblingerstr. 29</td>\n",
       "      <td>0</td>\n",
       "      <td>0.0</td>\n",
       "      <td>100</td>\n",
       "      <td>80337</td>\n",
       "      <td>München</td>\n",
       "      <td>lr</td>\n",
       "      <td>1087</td>\n",
       "    </tr>\n",
       "    <tr>\n",
       "      <th>1088</th>\n",
       "      <td>WC Musikhochschule, Reaktorhalle und Carl-Orff...</td>\n",
       "      <td>Halböffentliche Toilette im Hochschulgebäude m...</td>\n",
       "      <td>images/wc-af/div-musikh1WC1f3.jpg</td>\n",
       "      <td>images/wc-plan/div-musikh1WC1.jpg</td>\n",
       "      <td>(0.0, 0.0)</td>\n",
       "      <td>Luisenstr. 37a</td>\n",
       "      <td>0</td>\n",
       "      <td>0.0</td>\n",
       "      <td>90</td>\n",
       "      <td>80333</td>\n",
       "      <td>München</td>\n",
       "      <td>lr</td>\n",
       "      <td>1088</td>\n",
       "    </tr>\n",
       "    <tr>\n",
       "      <th>1089</th>\n",
       "      <td>WC Musikhochschule Arcisstraße</td>\n",
       "      <td>Halböffentliche Toilette im Hochschulgebäude m...</td>\n",
       "      <td>images/wc-af/div-musikh2WC1f3.jpg</td>\n",
       "      <td>images/wc-plan/div-musikh2WC1.jpg</td>\n",
       "      <td>(0.0, 0.0)</td>\n",
       "      <td>Arcisstr. 12</td>\n",
       "      <td>0</td>\n",
       "      <td>8.5</td>\n",
       "      <td>80</td>\n",
       "      <td>80333</td>\n",
       "      <td>München</td>\n",
       "      <td>lr</td>\n",
       "      <td>1089</td>\n",
       "    </tr>\n",
       "  </tbody>\n",
       "</table>\n",
       "<p>685 rows × 13 columns</p>\n",
       "</div>"
      ],
      "text/plain": [
       "                                                  title  \\\n",
       "1                         WC Bad Georgenschwaige Damen    \n",
       "3                               WC Freibad Unterhaching   \n",
       "4                        WC U-Bahnhof Münchner Freiheit   \n",
       "6                                         WC Riemer See   \n",
       "7                                 WC Ostbahnhof München   \n",
       "...                                                 ...   \n",
       "1085             WC Boulderwelt München Süd,  Brunnthal   \n",
       "1086                    WC Volkstheater mit Pflegeliege   \n",
       "1087                         WC Schmock im Volkstheater   \n",
       "1088  WC Musikhochschule, Reaktorhalle und Carl-Orff...   \n",
       "1089                     WC Musikhochschule Arcisstraße   \n",
       "\n",
       "                                      short_description  \\\n",
       "1        Bedingt öffentliche Toilette in einem Freibad.   \n",
       "3     Bedingt öffentliche Toilette mit Dusche in ein...   \n",
       "4     Öffentliche Toilette im U-Bahnhof, zugänglich ...   \n",
       "6     Öffentliche Toilette mit Pflegeliege am Badese...   \n",
       "7     Öffentliche Toilette im Bahnhof, zugänglich mi...   \n",
       "...                                                 ...   \n",
       "1085     Halböffentliche Toilette in einer Sportstätte.   \n",
       "1086    Halböffentliches WC an einem Veranstaltungsort.   \n",
       "1087      Halböffentliche Toilette in einer Gaststätte.   \n",
       "1088  Halböffentliche Toilette im Hochschulgebäude m...   \n",
       "1089  Halböffentliche Toilette im Hochschulgebäude m...   \n",
       "\n",
       "                                  photo                               plan  \\\n",
       "1      images/wc-af/ba-george1WC1f1.jpg   images/wc-plan/ba-george1WC1.jpg   \n",
       "3      images/wc-af/ba-unterh1WC1f1.jpg    images/wc-plan/ba-unterh1WC.jpg   \n",
       "4      images/wc-af/bf-muefre1WC1f1.jpg   images/wc-plan/bf-muefre1WC1.jpg   \n",
       "6      images/wc-af/ba-riemer1WC1f1.jpg   images/wc-plan/ba-riemer1WC1.jpg   \n",
       "7       images/wc-af/bf-ostbah1fWC2.jpg   images/wc-plan/bf-ostbah1WC1.jpg   \n",
       "...                                 ...                                ...   \n",
       "1085   images/wc-nz/sp-boulde1WC1f2.jpg   images/wc-plan/sp-boulde1WC1.jpg   \n",
       "1086   images/wc-nz/ve-volkst1WC1f3.jpg   images/wc-plan/ve-volkst1WC1.jpg   \n",
       "1087      images/wc-nz/schmoc1WC1f2.jpg       images/wc-plan/schmoc1WC.jpg   \n",
       "1088  images/wc-af/div-musikh1WC1f3.jpg  images/wc-plan/div-musikh1WC1.jpg   \n",
       "1089  images/wc-af/div-musikh2WC1f3.jpg  images/wc-plan/div-musikh2WC1.jpg   \n",
       "\n",
       "                position              address  eurokey  ramp_steepness  \\\n",
       "1     (48.1756, 11.5717)      Belgradstr. 195        0             0.0   \n",
       "3     (48.0619, 11.6208)        Schrenkstr. 2        1             0.0   \n",
       "4      (48.1622, 11.587)   Münchner Freiheit         1             0.0   \n",
       "6     (48.1271, 11.7078)          Riemer See         1             0.0   \n",
       "7     (48.1284, 11.6026)        Orleansplatz         1             0.0   \n",
       "...                  ...                  ...      ...             ...   \n",
       "1085  (48.0403, 11.6639)  Eugen-Sänger-Ring 4        0             0.0   \n",
       "1086          (0.0, 0.0)    Tumblingerstr. 29        0             0.0   \n",
       "1087          (0.0, 0.0)    Tumblingerstr. 29        0             0.0   \n",
       "1088          (0.0, 0.0)       Luisenstr. 37a        0             0.0   \n",
       "1089          (0.0, 0.0)         Arcisstr. 12        0             8.5   \n",
       "\n",
       "      door_width  zip_code          city grip    id  \n",
       "1             85     80804       München   lr     1  \n",
       "3             75     82008  Unterhaching   lr     3  \n",
       "4             85     80802       München   lr     4  \n",
       "6             95     81829       München   lr     6  \n",
       "7             88     81667       München   lr     7  \n",
       "...          ...       ...           ...  ...   ...  \n",
       "1085          90     85649     Brunnthal   lr  1085  \n",
       "1086         110     80337       München   lr  1086  \n",
       "1087         100     80337       München   lr  1087  \n",
       "1088          90     80333       München   lr  1088  \n",
       "1089          80     80333       München   lr  1089  \n",
       "\n",
       "[685 rows x 13 columns]"
      ]
     },
     "execution_count": 105,
     "metadata": {},
     "output_type": "execute_result"
    }
   ],
   "source": [
    "df[df['grip'].str.contains((\"|\").join([\"lr\"]))]"
   ]
  },
  {
   "cell_type": "code",
   "execution_count": null,
   "id": "c9b40283",
   "metadata": {},
   "outputs": [],
   "source": []
  },
  {
   "cell_type": "code",
   "execution_count": null,
   "id": "443ebf62",
   "metadata": {},
   "outputs": [],
   "source": []
  },
  {
   "cell_type": "code",
   "execution_count": null,
   "id": "5a4d8bdb",
   "metadata": {},
   "outputs": [],
   "source": []
  },
  {
   "cell_type": "code",
   "execution_count": null,
   "id": "dbe4d957",
   "metadata": {},
   "outputs": [],
   "source": []
  },
  {
   "cell_type": "code",
   "execution_count": null,
   "id": "6cff7a9b",
   "metadata": {},
   "outputs": [],
   "source": []
  },
  {
   "cell_type": "code",
   "execution_count": 8,
   "id": "7bc595f1",
   "metadata": {},
   "outputs": [],
   "source": []
  },
  {
   "cell_type": "code",
   "execution_count": null,
   "id": "7ee32e6b",
   "metadata": {},
   "outputs": [],
   "source": []
  },
  {
   "cell_type": "code",
   "execution_count": 10,
   "id": "f2af7dc2",
   "metadata": {},
   "outputs": [],
   "source": []
  },
  {
   "cell_type": "code",
   "execution_count": 67,
   "id": "ad65e520",
   "metadata": {},
   "outputs": [],
   "source": [
    "#def to_1D(series):\n",
    " #return pd.Series([x for _list in series for x in _list])"
   ]
  },
  {
   "cell_type": "code",
   "execution_count": null,
   "id": "d0c951e7",
   "metadata": {},
   "outputs": [],
   "source": []
  }
 ],
 "metadata": {
  "kernelspec": {
   "display_name": "Python 3",
   "language": "python",
   "name": "python3"
  },
  "language_info": {
   "codemirror_mode": {
    "name": "ipython",
    "version": 3
   },
   "file_extension": ".py",
   "mimetype": "text/x-python",
   "name": "python",
   "nbconvert_exporter": "python",
   "pygments_lexer": "ipython3",
   "version": "3.8.8"
  }
 },
 "nbformat": 4,
 "nbformat_minor": 5
}
