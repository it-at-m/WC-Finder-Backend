{
 "cells": [
  {
   "cell_type": "code",
   "execution_count": 34,
   "id": "4cdcf421",
   "metadata": {},
   "outputs": [],
   "source": [
    "import pandas as pd"
   ]
  },
  {
   "cell_type": "code",
   "execution_count": 35,
   "id": "53b5edde",
   "metadata": {},
   "outputs": [],
   "source": [
    "df = pd.read_csv(\"dpschool2a.csv\", delimiter=\";\")"
   ]
  },
  {
   "cell_type": "code",
   "execution_count": 45,
   "id": "dd307eda",
   "metadata": {},
   "outputs": [
    {
     "data": {
      "text/plain": [
       "Int64Index([843, 848, 858, 961, 1016, 1033, 1086, 1087, 1088, 1089, 1090,\n",
       "            1091],\n",
       "           dtype='int64')"
      ]
     },
     "execution_count": 45,
     "metadata": {},
     "output_type": "execute_result"
    }
   ],
   "source": [
    "df.drop(df[df[\"latitude\"] == \"0\"].index, inplace)"
   ]
  },
  {
   "cell_type": "code",
   "execution_count": 46,
   "id": "78eb9c6e",
   "metadata": {},
   "outputs": [
    {
     "data": {
      "text/plain": [
       "Int64Index([843, 848, 858, 961, 1016, 1033, 1086, 1087, 1088, 1089, 1090,\n",
       "            1091],\n",
       "           dtype='int64')"
      ]
     },
     "execution_count": 46,
     "metadata": {},
     "output_type": "execute_result"
    }
   ],
   "source": []
  },
  {
   "cell_type": "code",
   "execution_count": 42,
   "id": "0eed259c",
   "metadata": {},
   "outputs": [
    {
     "data": {
      "text/plain": [
       "1033    0\n",
       "Name: latitude, dtype: object"
      ]
     },
     "execution_count": 42,
     "metadata": {},
     "output_type": "execute_result"
    }
   ],
   "source": []
  },
  {
   "cell_type": "code",
   "execution_count": 40,
   "id": "d24f3b36",
   "metadata": {},
   "outputs": [
    {
     "data": {
      "text/html": [
       "<div>\n",
       "<style scoped>\n",
       "    .dataframe tbody tr th:only-of-type {\n",
       "        vertical-align: middle;\n",
       "    }\n",
       "\n",
       "    .dataframe tbody tr th {\n",
       "        vertical-align: top;\n",
       "    }\n",
       "\n",
       "    .dataframe thead th {\n",
       "        text-align: right;\n",
       "    }\n",
       "</style>\n",
       "<table border=\"1\" class=\"dataframe\">\n",
       "  <thead>\n",
       "    <tr style=\"text-align: right;\">\n",
       "      <th></th>\n",
       "      <th>title</th>\n",
       "      <th>short_description</th>\n",
       "      <th>description</th>\n",
       "      <th>latitude</th>\n",
       "      <th>longitude</th>\n",
       "      <th>address</th>\n",
       "      <th>addr_no</th>\n",
       "      <th>zip_code</th>\n",
       "      <th>city</th>\n",
       "      <th>country</th>\n",
       "      <th>additional_fields</th>\n",
       "      <th>image</th>\n",
       "      <th>icons</th>\n",
       "      <th>modified</th>\n",
       "    </tr>\n",
       "  </thead>\n",
       "  <tbody>\n",
       "    <tr>\n",
       "      <th>1</th>\n",
       "      <td>WC Bad Georgenschwaige Damen</td>\n",
       "      <td>Bedingt Ã¶ffentliche Toilette in einem Freibad.</td>\n",
       "      <td>&lt;p&gt;Das &lt;strong&gt;Damen-WC&lt;/strong&gt; ist im Umklei...</td>\n",
       "      <td>4.817.566</td>\n",
       "      <td>1.157.174</td>\n",
       "      <td>Belgradstr.</td>\n",
       "      <td>195</td>\n",
       "      <td>80804</td>\n",
       "      <td>MÃ¼nchen</td>\n",
       "      <td>DE</td>\n",
       "      <td>{\"wc_shortname\":\"ba-george1WC1\",\"wc_plan\":\"ba-...</td>\n",
       "      <td>{\"image_small\":\"images\\/wc-af\\/ba-george1WC1f1...</td>\n",
       "      <td>{\"0\":\"4\",\"1\":\"11\"}</td>\n",
       "      <td>09/08/2021 09:21</td>\n",
       "    </tr>\n",
       "    <tr>\n",
       "      <th>2</th>\n",
       "      <td>WC Bad Georgenschwaige Herren</td>\n",
       "      <td>Bedingt Ã¶ffentliche Toilette in einem Freibad.</td>\n",
       "      <td>&lt;p&gt;Das &lt;strong&gt;Herren-WC ist im Umkleidebau&lt;/s...</td>\n",
       "      <td>4.817.566</td>\n",
       "      <td>1.157.174</td>\n",
       "      <td>Belgradstr.</td>\n",
       "      <td>195</td>\n",
       "      <td>80804</td>\n",
       "      <td>MÃ¼nchen</td>\n",
       "      <td>DE</td>\n",
       "      <td>{\"wc_shortname\":\"ba-george1WC2\",\"wc_plan\":\"ba-...</td>\n",
       "      <td>{\"image_small\":\"images\\/wc-af\\/ba-george1WC2f1...</td>\n",
       "      <td>{\"0\":\"6\",\"1\":\"20\"}</td>\n",
       "      <td>09/08/2021 09:21</td>\n",
       "    </tr>\n",
       "    <tr>\n",
       "      <th>3</th>\n",
       "      <td>WC Freibad Unterhaching</td>\n",
       "      <td>Bedingt Ã¶ffentliche Toilette mit Dusche in ei...</td>\n",
       "      <td>&lt;p&gt;Das rollstuhlgerechte WC des Unterhachinger...</td>\n",
       "      <td>480.619.761</td>\n",
       "      <td>116.208.199</td>\n",
       "      <td>Schrenkstr.</td>\n",
       "      <td>2</td>\n",
       "      <td>82008</td>\n",
       "      <td>Unterhaching</td>\n",
       "      <td>Deutschland</td>\n",
       "      <td>{\"wc_shortname\":\"ba-unterh1WC\",\"wc_plan\":\"ba-u...</td>\n",
       "      <td>{\"image_small\":\"images\\/wc-af\\/ba-unterh1WC1f1...</td>\n",
       "      <td>{\"0\":\"4\",\"1\":\"8\",\"2\":\"11\"}</td>\n",
       "      <td>10/06/2021 08:10</td>\n",
       "    </tr>\n",
       "    <tr>\n",
       "      <th>4</th>\n",
       "      <td>WC U-Bahnhof MÃ¼nchner Freiheit</td>\n",
       "      <td>Ã–ffentliche Toilette im U-Bahnhof, zugÃ¤nglic...</td>\n",
       "      <td>&lt;p&gt;Das rollstuhlgerechte WC des U-Bahnhofs MÃ¼...</td>\n",
       "      <td>481.622.924</td>\n",
       "      <td>115.870.025</td>\n",
       "      <td>MÃ¼nchner Freiheit</td>\n",
       "      <td>NaN</td>\n",
       "      <td>80802</td>\n",
       "      <td>MÃ¼nchen</td>\n",
       "      <td>DE</td>\n",
       "      <td>{\"wc_shortname\":\"bf-muefre1WC\",\"wc_plan\":\"bf-m...</td>\n",
       "      <td>{\"image_small\":\"images\\/wc-af\\/bf-muefre1WC1f1...</td>\n",
       "      <td>{\"0\":\"4\",\"1\":\"11\",\"2\":\"12\"}</td>\n",
       "      <td>10/06/2021 08:09</td>\n",
       "    </tr>\n",
       "    <tr>\n",
       "      <th>5</th>\n",
       "      <td>WC Dynasty Unterhaching</td>\n",
       "      <td>HalbÃ¶ffentliche Toilette in einem Lokal.</td>\n",
       "      <td>&lt;p&gt;Auf dem Weg zum Haupteingang ist eine Schwe...</td>\n",
       "      <td>480.556.938</td>\n",
       "      <td>116.076.273</td>\n",
       "      <td>Inselkammerstr.</td>\n",
       "      <td>3</td>\n",
       "      <td>82008</td>\n",
       "      <td>Unterhaching</td>\n",
       "      <td>Deutschland</td>\n",
       "      <td>{\"wc_shortname\":\"dynast1\",\"wc_plan\":\"dynast1WC...</td>\n",
       "      <td>{\"image_small\":\"images\\/wc-af\\/dynast1WC1f1.jp...</td>\n",
       "      <td>{\"0\":\"4\",\"1\":\"17\"}</td>\n",
       "      <td>18/08/2021 16:24</td>\n",
       "    </tr>\n",
       "  </tbody>\n",
       "</table>\n",
       "</div>"
      ],
      "text/plain": [
       "                             title  \\\n",
       "1    WC Bad Georgenschwaige Damen    \n",
       "2    WC Bad Georgenschwaige Herren   \n",
       "3          WC Freibad Unterhaching   \n",
       "4  WC U-Bahnhof MÃ¼nchner Freiheit   \n",
       "5          WC Dynasty Unterhaching   \n",
       "\n",
       "                                   short_description  \\\n",
       "1    Bedingt Ã¶ffentliche Toilette in einem Freibad.   \n",
       "2    Bedingt Ã¶ffentliche Toilette in einem Freibad.   \n",
       "3  Bedingt Ã¶ffentliche Toilette mit Dusche in ei...   \n",
       "4  Ã–ffentliche Toilette im U-Bahnhof, zugÃ¤nglic...   \n",
       "5          HalbÃ¶ffentliche Toilette in einem Lokal.   \n",
       "\n",
       "                                         description     latitude  \\\n",
       "1  <p>Das <strong>Damen-WC</strong> ist im Umklei...    4.817.566   \n",
       "2  <p>Das <strong>Herren-WC ist im Umkleidebau</s...    4.817.566   \n",
       "3  <p>Das rollstuhlgerechte WC des Unterhachinger...  480.619.761   \n",
       "4  <p>Das rollstuhlgerechte WC des U-Bahnhofs MÃ¼...  481.622.924   \n",
       "5  <p>Auf dem Weg zum Haupteingang ist eine Schwe...  480.556.938   \n",
       "\n",
       "     longitude             address addr_no  zip_code          city  \\\n",
       "1    1.157.174         Belgradstr.     195     80804      MÃ¼nchen   \n",
       "2    1.157.174         Belgradstr.     195     80804      MÃ¼nchen   \n",
       "3  116.208.199         Schrenkstr.       2     82008  Unterhaching   \n",
       "4  115.870.025  MÃ¼nchner Freiheit     NaN     80802      MÃ¼nchen   \n",
       "5  116.076.273     Inselkammerstr.       3     82008  Unterhaching   \n",
       "\n",
       "       country                                  additional_fields  \\\n",
       "1           DE  {\"wc_shortname\":\"ba-george1WC1\",\"wc_plan\":\"ba-...   \n",
       "2           DE  {\"wc_shortname\":\"ba-george1WC2\",\"wc_plan\":\"ba-...   \n",
       "3  Deutschland  {\"wc_shortname\":\"ba-unterh1WC\",\"wc_plan\":\"ba-u...   \n",
       "4           DE  {\"wc_shortname\":\"bf-muefre1WC\",\"wc_plan\":\"bf-m...   \n",
       "5  Deutschland  {\"wc_shortname\":\"dynast1\",\"wc_plan\":\"dynast1WC...   \n",
       "\n",
       "                                               image  \\\n",
       "1  {\"image_small\":\"images\\/wc-af\\/ba-george1WC1f1...   \n",
       "2  {\"image_small\":\"images\\/wc-af\\/ba-george1WC2f1...   \n",
       "3  {\"image_small\":\"images\\/wc-af\\/ba-unterh1WC1f1...   \n",
       "4  {\"image_small\":\"images\\/wc-af\\/bf-muefre1WC1f1...   \n",
       "5  {\"image_small\":\"images\\/wc-af\\/dynast1WC1f1.jp...   \n",
       "\n",
       "                         icons          modified  \n",
       "1           {\"0\":\"4\",\"1\":\"11\"}  09/08/2021 09:21  \n",
       "2           {\"0\":\"6\",\"1\":\"20\"}  09/08/2021 09:21  \n",
       "3   {\"0\":\"4\",\"1\":\"8\",\"2\":\"11\"}  10/06/2021 08:10  \n",
       "4  {\"0\":\"4\",\"1\":\"11\",\"2\":\"12\"}  10/06/2021 08:09  \n",
       "5           {\"0\":\"4\",\"1\":\"17\"}  18/08/2021 16:24  "
      ]
     },
     "execution_count": 40,
     "metadata": {},
     "output_type": "execute_result"
    }
   ],
   "source": [
    "df.head()"
   ]
  },
  {
   "cell_type": "code",
   "execution_count": 3,
   "id": "efdecdd2",
   "metadata": {},
   "outputs": [],
   "source": [
    "df.drop(df[(df[\"latitude\"] == 0) | df[\"longitude\"] == 0].index, inplace=True)"
   ]
  },
  {
   "cell_type": "code",
   "execution_count": 37,
   "id": "da2e5beb",
   "metadata": {},
   "outputs": [],
   "source": [
    "df = df[df[\"published\"] == 1]"
   ]
  },
  {
   "cell_type": "code",
   "execution_count": 38,
   "id": "e14ef857",
   "metadata": {},
   "outputs": [],
   "source": [
    "df = df[['title', 'short_description', 'description', 'latitude', 'longitude', 'address', 'addr_no', \n",
    "         'zip_code', 'city', 'country', 'additional_fields', 'image', 'icons', 'modified']]"
   ]
  },
  {
   "cell_type": "code",
   "execution_count": null,
   "id": "98a3b980",
   "metadata": {},
   "outputs": [],
   "source": []
  },
  {
   "cell_type": "code",
   "execution_count": 6,
   "id": "f70b4e50",
   "metadata": {},
   "outputs": [],
   "source": [
    "import json\n",
    "df[\"additional_fields\"] = df[\"additional_fields\"].map(lambda x: json.loads(x))\n",
    "df[\"image\"] = df[\"image\"].map(lambda x: json.loads(x))"
   ]
  },
  {
   "cell_type": "code",
   "execution_count": 7,
   "id": "ca344585",
   "metadata": {},
   "outputs": [],
   "source": [
    "df = df[df['latitude'].notna()]"
   ]
  },
  {
   "cell_type": "code",
   "execution_count": 8,
   "id": "584e809c",
   "metadata": {},
   "outputs": [],
   "source": [
    "from pandas import isnull\n",
    "df[\"icons\"] = df[\"icons\"].map(lambda x: {} if isnull(x) else x)\n",
    "df[\"icons\"] = df[\"icons\"].map(lambda x: x if isinstance(x, str) else str(x))\n",
    "df[\"icons\"] = df[\"icons\"].map(lambda x: json.loads(x))"
   ]
  },
  {
   "cell_type": "code",
   "execution_count": 9,
   "id": "d887b710",
   "metadata": {},
   "outputs": [],
   "source": [
    "df[\"modified\"] = pd.to_datetime(df[\"modified\"], errors=\"coerce\")"
   ]
  },
  {
   "cell_type": "code",
   "execution_count": 10,
   "id": "ecce9fef",
   "metadata": {},
   "outputs": [],
   "source": [
    "df['longitude'] = df['longitude'].map(lambda x: x.replace('.', \"\")[:6]).astype(float) / 10000\n",
    "df['latitude'] = df['latitude'].map(lambda x: x.replace('.', \"\")[:6]).astype(float) / 10000"
   ]
  },
  {
   "cell_type": "code",
   "execution_count": 11,
   "id": "8ab4c3f2",
   "metadata": {},
   "outputs": [],
   "source": [
    "df[\"description\"] = df[\"description\"].map(lambda x: \"\" if isnull(x) else x)\n",
    "df[\"short_description\"] = df[\"short_description\"].map(lambda x: \"\" if isnull(x) else x)\n",
    "df[\"addr_no\"] = df[\"addr_no\"].map(lambda x: \"\" if isnull(x) else x)"
   ]
  },
  {
   "cell_type": "code",
   "execution_count": 12,
   "id": "6dec452b",
   "metadata": {},
   "outputs": [],
   "source": [
    "df[\"address\"] = df[\"address\"] + \" \" + df[\"addr_no\"]"
   ]
  },
  {
   "cell_type": "code",
   "execution_count": 13,
   "id": "27ff23ca",
   "metadata": {},
   "outputs": [],
   "source": [
    "df.drop([\"addr_no\"], axis=1, inplace=True)"
   ]
  },
  {
   "cell_type": "code",
   "execution_count": 14,
   "id": "a46e2935",
   "metadata": {},
   "outputs": [],
   "source": [
    "df[\"position\"] = None\n",
    "for i in df.index:\n",
    "    df.at[i, 'position'] = (df.loc[i]['latitude'], df.loc[i]['longitude'])"
   ]
  },
  {
   "cell_type": "code",
   "execution_count": 15,
   "id": "eb133c01",
   "metadata": {},
   "outputs": [],
   "source": [
    "icons = {\"Toilette für Alle\": 10, \"Rolli WC\": 11, \"Rolli WC -DIN fern\": 20, \"WC eng\": 17, \"kein Rolli WC vorhanden\": 21,\n",
    "        \"Parken\": 7, \"Stufe\": 1, \"WC - unisex\": 4, \"WC getrennt\": 6, \"Rollstuhl\": 5, \"Lift groß\": 12, \"Lift klein\": 13,\n",
    "        \"Kino-Untertitel\": 15, \"Induktionsschleife\": 14, \"low-vision\": 18, \"kognitiv beeinträchtigt\": 19, \"Umkleide\": 9,\n",
    "        \"Dusche\": 8, \"nicht rollstuhlgerecht\": 16, \"Rampe\": 2, \"keine Steigung - eben\": 26, \"moderate Steigung / Gefälle\": 22,\n",
    "        \"weitere moderate Steigungen / Gefälle\": 23, \"heftige Steigung / Gefälle\": 25, \"weitere heftige Steigung / Gefälle\": 24}\n",
    "new_dict = {v: k for k, v in icons.items()}\n",
    "new_dict.update({40: \"Euro Key\", 41: \"Ramp Incline\", 42: \"Door Width\"})"
   ]
  },
  {
   "cell_type": "code",
   "execution_count": 16,
   "id": "3c9211ac",
   "metadata": {},
   "outputs": [],
   "source": [
    "df[\"icons\"] = df[\"icons\"].map(lambda x: tuple(map(int, list(x.values()))))"
   ]
  },
  {
   "cell_type": "code",
   "execution_count": 17,
   "id": "21f4ee5e",
   "metadata": {},
   "outputs": [],
   "source": [
    "df[40] = df[\"additional_fields\"].map(lambda x: x[\"wc_euro\"] if \"wc_euro\" in x.keys() else \"0\")\n",
    "df[40] = df[40].map(lambda x: int(x) if x in [\"1\", \"0\"] else 0)"
   ]
  },
  {
   "cell_type": "code",
   "execution_count": 18,
   "id": "f21d5e24",
   "metadata": {},
   "outputs": [],
   "source": [
    "def isfloat(value):\n",
    "  try:\n",
    "    float(value)\n",
    "    return True\n",
    "  except ValueError:\n",
    "    return False\n",
    "\n",
    "df[41] = df[\"additional_fields\"].map(lambda x: x[\"wc_ramp_incline\"])\n",
    "df[41] = df[41].map(lambda x: x.replace(\",\",\".\"))\n",
    "df[41] = df[41].map(lambda x: float(x) if isfloat(x) else 0)\n",
    "#need to check further as some have extra text"
   ]
  },
  {
   "cell_type": "code",
   "execution_count": 19,
   "id": "9b4f0bb5",
   "metadata": {},
   "outputs": [],
   "source": [
    "df[42] = df[\"additional_fields\"].map(lambda x: x[\"wc_door_width\"])\n",
    "df[42] = df[42].map(lambda x: int(x) if x != \"\" else 150)\n",
    "df[42] = df[42].map(lambda x: x if x > 15 else x*10)"
   ]
  },
  {
   "cell_type": "code",
   "execution_count": 20,
   "id": "0e8adda4",
   "metadata": {},
   "outputs": [],
   "source": [
    "x = pd.get_dummies(df.icons.apply(pd.Series).stack()).sum(level=0)\n",
    "x = x.rename(int, axis=\"columns\")\n",
    "col = list(x.columns)\n",
    "for i in [40, 41, 42]:\n",
    "    col.append(i)"
   ]
  },
  {
   "cell_type": "code",
   "execution_count": 21,
   "id": "91a48797",
   "metadata": {},
   "outputs": [],
   "source": [
    "df = df.rename(columns={40:\"eurokey\", 41: \"ramp_steepness\", 42: \"door_width\"})"
   ]
  },
  {
   "cell_type": "code",
   "execution_count": 22,
   "id": "1d2c68ae",
   "metadata": {},
   "outputs": [],
   "source": [
    "df[\"photo\"] = df[\"image\"].map(lambda x: x[\"image_small\"])\n",
    "df[\"plan\"] = df[\"additional_fields\"].map(lambda x: \"images/wc-plan/\" + x[\"wc_plan\"] + \".jpg\")\n",
    "#df[\"seat_height\"] = df[\"additional_fields\"].map(lambda x: x[\"wc_seat\"])"
   ]
  },
  {
   "cell_type": "code",
   "execution_count": 23,
   "id": "6c9016ac",
   "metadata": {},
   "outputs": [],
   "source": [
    "df = df.drop(df.loc[df['icons'].isin([(21,)])].index)"
   ]
  },
  {
   "cell_type": "code",
   "execution_count": 24,
   "id": "b9891148",
   "metadata": {},
   "outputs": [],
   "source": [
    "df[\"grip\"] = df[\"additional_fields\"].map(lambda x:x[\"wc_wheregrip\"])"
   ]
  },
  {
   "cell_type": "markdown",
   "id": "e1973cf9",
   "metadata": {},
   "source": [
    "lr = flexible left & flexible right\n",
    "\n",
    "l = flexible left\n",
    "\n",
    "rfl & flr = fixed left and flexible right\n",
    "\n",
    "fr = fixed right\n",
    "\n",
    "none = no grip\n",
    "\n",
    "lfr = flexible left and fixed right\n",
    "\n",
    "r = flexible right\n",
    "\n",
    "fl = fixed left"
   ]
  },
  {
   "cell_type": "code",
   "execution_count": null,
   "id": "00fd0bf4",
   "metadata": {
    "scrolled": true
   },
   "outputs": [],
   "source": []
  },
  {
   "cell_type": "code",
   "execution_count": 25,
   "id": "d53969b3",
   "metadata": {},
   "outputs": [],
   "source": [
    "df[\"access\"] = df[\"additional_fields\"].map(lambda x:x[\"wc_infos\"])\n",
    "df[\"interior_description\"] = df[\"additional_fields\"].map(lambda x:x[\"wc_roominfos\"])\n",
    "df[\"wc_details\"] = df[\"additional_fields\"].map(lambda x:x[\"wc_addinfo\"])\n",
    "df[\"wc_accessleft\"] = df[\"additional_fields\"].map(lambda x:x[\"wc_accessleft\"])\n",
    "df[\"wc_accessright\"] = df[\"additional_fields\"].map(lambda x:x[\"wc_accessright\"])"
   ]
  },
  {
   "cell_type": "code",
   "execution_count": 27,
   "id": "a16fcbf3",
   "metadata": {},
   "outputs": [
    {
     "data": {
      "text/html": [
       "<div>\n",
       "<style scoped>\n",
       "    .dataframe tbody tr th:only-of-type {\n",
       "        vertical-align: middle;\n",
       "    }\n",
       "\n",
       "    .dataframe tbody tr th {\n",
       "        vertical-align: top;\n",
       "    }\n",
       "\n",
       "    .dataframe thead th {\n",
       "        text-align: right;\n",
       "    }\n",
       "</style>\n",
       "<table border=\"1\" class=\"dataframe\">\n",
       "  <thead>\n",
       "    <tr style=\"text-align: right;\">\n",
       "      <th></th>\n",
       "      <th>title</th>\n",
       "      <th>short_description</th>\n",
       "      <th>description</th>\n",
       "      <th>latitude</th>\n",
       "      <th>longitude</th>\n",
       "      <th>address</th>\n",
       "      <th>zip_code</th>\n",
       "      <th>city</th>\n",
       "      <th>country</th>\n",
       "      <th>additional_fields</th>\n",
       "      <th>...</th>\n",
       "      <th>ramp_steepness</th>\n",
       "      <th>door_width</th>\n",
       "      <th>photo</th>\n",
       "      <th>plan</th>\n",
       "      <th>grip</th>\n",
       "      <th>access</th>\n",
       "      <th>interior_description</th>\n",
       "      <th>wc_details</th>\n",
       "      <th>wc_accessleft</th>\n",
       "      <th>wc_accessright</th>\n",
       "    </tr>\n",
       "  </thead>\n",
       "  <tbody>\n",
       "    <tr>\n",
       "      <th>1033</th>\n",
       "      <td>WC Bahnhof Buchenau</td>\n",
       "      <td>Ã–ffentliche Bahnhofstoilette mit Euroschloss.</td>\n",
       "      <td></td>\n",
       "      <td>0.0</td>\n",
       "      <td>0.0</td>\n",
       "      <td>Kurt-Huber-Ring 13a</td>\n",
       "      <td>82265</td>\n",
       "      <td>FÃ¼rstenfeldbruck</td>\n",
       "      <td>DE</td>\n",
       "      <td>{'wc_shortname': 'bf-buchen1WC1', 'wc_plan': '...</td>\n",
       "      <td>...</td>\n",
       "      <td>0.0</td>\n",
       "      <td>90</td>\n",
       "      <td>images/wc-af/bf-buchen1WC1f2.jpg</td>\n",
       "      <td>images/wc-plan/bf-buchen1WC1.jpg</td>\n",
       "      <td>lr</td>\n",
       "      <td>Die Tür zur rollstuhlgerechten bzw. behinderte...</td>\n",
       "      <td>Das Waschbecken, gegenüber von der Tür, ist au...</td>\n",
       "      <td>Die Spültaste ist hinter dem WC-Becken in 100 ...</td>\n",
       "      <td>110</td>\n",
       "      <td>80</td>\n",
       "    </tr>\n",
       "  </tbody>\n",
       "</table>\n",
       "<p>1 rows × 25 columns</p>\n",
       "</div>"
      ],
      "text/plain": [
       "                    title                               short_description  \\\n",
       "1033  WC Bahnhof Buchenau  Ã–ffentliche Bahnhofstoilette mit Euroschloss.   \n",
       "\n",
       "     description  latitude  longitude              address  zip_code  \\\n",
       "1033                   0.0        0.0  Kurt-Huber-Ring 13a     82265   \n",
       "\n",
       "                   city country  \\\n",
       "1033  FÃ¼rstenfeldbruck      DE   \n",
       "\n",
       "                                      additional_fields  ... ramp_steepness  \\\n",
       "1033  {'wc_shortname': 'bf-buchen1WC1', 'wc_plan': '...  ...            0.0   \n",
       "\n",
       "     door_width                             photo  \\\n",
       "1033         90  images/wc-af/bf-buchen1WC1f2.jpg   \n",
       "\n",
       "                                  plan  grip  \\\n",
       "1033  images/wc-plan/bf-buchen1WC1.jpg    lr   \n",
       "\n",
       "                                                 access  \\\n",
       "1033  Die Tür zur rollstuhlgerechten bzw. behinderte...   \n",
       "\n",
       "                                   interior_description  \\\n",
       "1033  Das Waschbecken, gegenüber von der Tür, ist au...   \n",
       "\n",
       "                                             wc_details wc_accessleft  \\\n",
       "1033  Die Spültaste ist hinter dem WC-Becken in 100 ...           110   \n",
       "\n",
       "     wc_accessright  \n",
       "1033             80  \n",
       "\n",
       "[1 rows x 25 columns]"
      ]
     },
     "execution_count": 27,
     "metadata": {},
     "output_type": "execute_result"
    }
   ],
   "source": [
    "df[df[\"title\"] == \"WC Bahnhof Buchenau\"]"
   ]
  },
  {
   "cell_type": "code",
   "execution_count": null,
   "id": "3ce55673",
   "metadata": {},
   "outputs": [],
   "source": []
  },
  {
   "cell_type": "code",
   "execution_count": null,
   "id": "6a7586c2",
   "metadata": {},
   "outputs": [],
   "source": [
    "df = df.rename(columns={\"description\": \"direction\"})"
   ]
  },
  {
   "cell_type": "code",
   "execution_count": null,
   "id": "c2baa068",
   "metadata": {},
   "outputs": [],
   "source": []
  },
  {
   "cell_type": "code",
   "execution_count": null,
   "id": "3aac3a39",
   "metadata": {},
   "outputs": [],
   "source": []
  },
  {
   "cell_type": "code",
   "execution_count": null,
   "id": "d08249fd",
   "metadata": {},
   "outputs": [],
   "source": [
    "df = df[[\"title\", \"short_description\", \"photo\", \"plan\", \"position\", \"address\", \"eurokey\", \"ramp_steepness\", \"door_width\", \"modified\",\n",
    "         \"zip_code\", \"city\", \"grip\", \"direction\", \"access\", \"interior_description\", \"wc_details\", \"wc_accessright\", \"wc_accessleft\"]]"
   ]
  },
  {
   "cell_type": "code",
   "execution_count": null,
   "id": "4649b0bc",
   "metadata": {},
   "outputs": [],
   "source": [
    "errors = pd.read_excel(\"toilets_text errors.xlsx\")"
   ]
  },
  {
   "cell_type": "code",
   "execution_count": null,
   "id": "396c5fcf",
   "metadata": {},
   "outputs": [],
   "source": [
    "errors.dropna(inplace=True)"
   ]
  },
  {
   "cell_type": "code",
   "execution_count": null,
   "id": "bb4a507c",
   "metadata": {},
   "outputs": [],
   "source": [
    "list(errors[\"Text error\"])"
   ]
  },
  {
   "cell_type": "code",
   "execution_count": null,
   "id": "d1a2b5d3",
   "metadata": {},
   "outputs": [],
   "source": [
    "import re\n",
    "\n",
    "errors = pd.Series(errors[\"correction\"].values,index=errors[\"Text error\"]).to_dict()\n",
    "\n",
    "# use these three lines to do the replacement\n",
    "rep = dict((re.escape(k), v) for k, v in errors.items()) \n",
    "#Python 3 renamed dict.iteritems to dict.items so use rep.items() for latest versions\n",
    "pattern = re.compile(\"|\".join(rep.keys()))"
   ]
  },
  {
   "cell_type": "code",
   "execution_count": null,
   "id": "0b058197",
   "metadata": {},
   "outputs": [],
   "source": [
    "df[\"short_description\"] = df[\"short_description\"].map(lambda x: pattern.sub(lambda m: rep[re.escape(m.group(0))], x))\n",
    "df[\"title\"] = df[\"title\"].map(lambda x: pattern.sub(lambda m: rep[re.escape(m.group(0))], x))\n",
    "df[\"address\"] = df[\"address\"].map(lambda x: pattern.sub(lambda m: rep[re.escape(m.group(0))], x))\n",
    "df[\"city\"] = df[\"city\"].map(lambda x: pattern.sub(lambda m: rep[re.escape(m.group(0))], x))\n",
    "df[\"direction\"] = df[\"direction\"].map(lambda x: pattern.sub(lambda m: rep[re.escape(m.group(0))], x))\n",
    "df[\"access\"] = df[\"access\"].map(lambda x: pattern.sub(lambda m: rep[re.escape(m.group(0))], x))\n",
    "df[\"interior_description\"] = df[\"interior_description\"].map(lambda x: pattern.sub(lambda m: rep[re.escape(m.group(0))], x))\n",
    "df[\"wc_details\"] = df[\"wc_details\"].map(lambda x: pattern.sub(lambda m: rep[re.escape(m.group(0))], x))"
   ]
  },
  {
   "cell_type": "code",
   "execution_count": null,
   "id": "b1936676",
   "metadata": {},
   "outputs": [],
   "source": [
    "def remove_html_tags(text):\n",
    "    \"\"\"Remove html tags from a string\"\"\"\n",
    "    import re\n",
    "    clean = re.compile('<.*?>')\n",
    "    return re.sub(clean, '', text)"
   ]
  },
  {
   "cell_type": "code",
   "execution_count": null,
   "id": "3c433e60",
   "metadata": {},
   "outputs": [],
   "source": [
    "df[\"direction\"] = df[\"direction\"].map(lambda x:remove_html_tags(x))\n",
    "df[\"access\"] = df[\"access\"].map(lambda x:remove_html_tags(x))\n",
    "df[\"interior_description\"] = df[\"interior_description\"].map(lambda x:remove_html_tags(x))\n",
    "df[\"wc_details\"] = df[\"wc_details\"].map(lambda x:remove_html_tags(x))"
   ]
  },
  {
   "cell_type": "code",
   "execution_count": null,
   "id": "0cd01b75",
   "metadata": {},
   "outputs": [],
   "source": [
    "df[\"id\"] = df.index"
   ]
  },
  {
   "cell_type": "code",
   "execution_count": null,
   "id": "28b2077e",
   "metadata": {},
   "outputs": [],
   "source": [
    "df.head()"
   ]
  },
  {
   "cell_type": "code",
   "execution_count": null,
   "id": "2fea8c69",
   "metadata": {},
   "outputs": [],
   "source": [
    "df.to_json(\"toilets_v14.json\")"
   ]
  },
  {
   "cell_type": "code",
   "execution_count": null,
   "id": "064b829d",
   "metadata": {},
   "outputs": [],
   "source": []
  },
  {
   "cell_type": "code",
   "execution_count": null,
   "id": "d6971edb",
   "metadata": {},
   "outputs": [],
   "source": []
  }
 ],
 "metadata": {
  "kernelspec": {
   "display_name": "Python 3",
   "language": "python",
   "name": "python3"
  },
  "language_info": {
   "codemirror_mode": {
    "name": "ipython",
    "version": 3
   },
   "file_extension": ".py",
   "mimetype": "text/x-python",
   "name": "python",
   "nbconvert_exporter": "python",
   "pygments_lexer": "ipython3",
   "version": "3.8.8"
  }
 },
 "nbformat": 4,
 "nbformat_minor": 5
}
