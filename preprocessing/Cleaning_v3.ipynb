{
 "cells": [
  {
   "cell_type": "code",
   "execution_count": 1,
   "id": "4cdcf421",
   "metadata": {},
   "outputs": [],
   "source": [
    "import pandas as pd"
   ]
  },
  {
   "cell_type": "code",
   "execution_count": 2,
   "id": "53b5edde",
   "metadata": {},
   "outputs": [],
   "source": [
    "df = pd.read_csv(\"dpschool2a.csv\", delimiter=\";\")"
   ]
  },
  {
   "cell_type": "code",
   "execution_count": null,
   "id": "da2e5beb",
   "metadata": {},
   "outputs": [],
   "source": []
  },
  {
   "cell_type": "code",
   "execution_count": 3,
   "id": "e14ef857",
   "metadata": {},
   "outputs": [],
   "source": [
    "df = df[['title', 'short_description', 'description', 'latitude', 'longitude', 'address', 'addr_no', \n",
    "         'zip_code', 'city', 'country', 'additional_fields', 'image', 'icons', 'modified']]"
   ]
  },
  {
   "cell_type": "code",
   "execution_count": 4,
   "id": "f70b4e50",
   "metadata": {},
   "outputs": [],
   "source": [
    "import json\n",
    "df[\"additional_fields\"] = df[\"additional_fields\"].map(lambda x: json.loads(x))\n",
    "df[\"image\"] = df[\"image\"].map(lambda x: json.loads(x))"
   ]
  },
  {
   "cell_type": "code",
   "execution_count": 5,
   "id": "ca344585",
   "metadata": {},
   "outputs": [],
   "source": [
    "df = df[df['latitude'].notna()]"
   ]
  },
  {
   "cell_type": "code",
   "execution_count": 6,
   "id": "584e809c",
   "metadata": {},
   "outputs": [],
   "source": [
    "from pandas import isnull\n",
    "df[\"icons\"] = df[\"icons\"].map(lambda x: {} if isnull(x) else x)\n",
    "df[\"icons\"] = df[\"icons\"].map(lambda x: x if isinstance(x, str) else str(x))\n",
    "df[\"icons\"] = df[\"icons\"].map(lambda x: json.loads(x))"
   ]
  },
  {
   "cell_type": "code",
   "execution_count": 7,
   "id": "d887b710",
   "metadata": {},
   "outputs": [],
   "source": [
    "df[\"modified\"] = pd.to_datetime(df[\"modified\"], errors=\"coerce\")"
   ]
  },
  {
   "cell_type": "code",
   "execution_count": 8,
   "id": "ecce9fef",
   "metadata": {},
   "outputs": [],
   "source": [
    "df['longitude'] = df['longitude'].map(lambda x: x.replace('.', \"\")[:6]).astype(float) / 10000\n",
    "df['latitude'] = df['latitude'].map(lambda x: x.replace('.', \"\")[:6]).astype(float) / 10000"
   ]
  },
  {
   "cell_type": "code",
   "execution_count": 9,
   "id": "8ab4c3f2",
   "metadata": {},
   "outputs": [],
   "source": [
    "df[\"description\"] = df[\"description\"].map(lambda x: \"\" if isnull(x) else x)\n",
    "df[\"short_description\"] = df[\"short_description\"].map(lambda x: \"\" if isnull(x) else x)\n",
    "df[\"addr_no\"] = df[\"addr_no\"].map(lambda x: \"\" if isnull(x) else x)"
   ]
  },
  {
   "cell_type": "code",
   "execution_count": 10,
   "id": "6dec452b",
   "metadata": {},
   "outputs": [],
   "source": [
    "df[\"address\"] = df[\"address\"] + \" \" + df[\"addr_no\"]"
   ]
  },
  {
   "cell_type": "code",
   "execution_count": 11,
   "id": "27ff23ca",
   "metadata": {},
   "outputs": [],
   "source": [
    "df.drop([\"addr_no\"], axis=1, inplace=True)"
   ]
  },
  {
   "cell_type": "code",
   "execution_count": 12,
   "id": "a46e2935",
   "metadata": {},
   "outputs": [],
   "source": [
    "df[\"position\"] = None\n",
    "for i in df.index:\n",
    "    df.at[i, 'position'] = (df.loc[i]['latitude'], df.loc[i]['longitude'])"
   ]
  },
  {
   "cell_type": "code",
   "execution_count": 13,
   "id": "eb133c01",
   "metadata": {},
   "outputs": [],
   "source": [
    "icons = {\"Toilette für Alle\": 10, \"Rolli WC\": 11, \"Rolli WC -DIN fern\": 20, \"WC eng\": 17, \"kein Rolli WC vorhanden\": 21,\n",
    "        \"Parken\": 7, \"Stufe\": 1, \"WC - unisex\": 4, \"WC getrennt\": 6, \"Rollstuhl\": 5, \"Lift groß\": 12, \"Lift klein\": 13,\n",
    "        \"Kino-Untertitel\": 15, \"Induktionsschleife\": 14, \"low-vision\": 18, \"kognitiv beeinträchtigt\": 19, \"Umkleide\": 9,\n",
    "        \"Dusche\": 8, \"nicht rollstuhlgerecht\": 16, \"Rampe\": 2, \"keine Steigung - eben\": 26, \"moderate Steigung / Gefälle\": 22,\n",
    "        \"weitere moderate Steigungen / Gefälle\": 23, \"heftige Steigung / Gefälle\": 25, \"weitere heftige Steigung / Gefälle\": 24}\n",
    "new_dict = {v: k for k, v in icons.items()}\n",
    "new_dict.update({40: \"Euro Key\", 41: \"Ramp Incline\", 42: \"Door Width\"})"
   ]
  },
  {
   "cell_type": "code",
   "execution_count": 14,
   "id": "3c9211ac",
   "metadata": {},
   "outputs": [],
   "source": [
    "df[\"icons\"] = df[\"icons\"].map(lambda x: list(map(int, list(x.values()))))"
   ]
  },
  {
   "cell_type": "code",
   "execution_count": 15,
   "id": "21f4ee5e",
   "metadata": {},
   "outputs": [],
   "source": [
    "df[40] = df[\"additional_fields\"].map(lambda x: x[\"wc_euro\"] if \"wc_euro\" in x.keys() else \"0\")\n",
    "df[40] = df[40].map(lambda x: int(x) if x in [\"1\", \"0\"] else 0)"
   ]
  },
  {
   "cell_type": "code",
   "execution_count": 16,
   "id": "f21d5e24",
   "metadata": {},
   "outputs": [],
   "source": [
    "def isfloat(value):\n",
    "  try:\n",
    "    float(value)\n",
    "    return True\n",
    "  except ValueError:\n",
    "    return False\n",
    "\n",
    "df[41] = df[\"additional_fields\"].map(lambda x: x[\"wc_ramp_incline\"])\n",
    "df[41] = df[41].map(lambda x: x.replace(\",\",\".\"))\n",
    "df[41] = df[41].map(lambda x: float(x) if isfloat(x) else 0)\n",
    "#need to check further as some have extra text"
   ]
  },
  {
   "cell_type": "code",
   "execution_count": 17,
   "id": "9b4f0bb5",
   "metadata": {},
   "outputs": [],
   "source": [
    "df[42] = df[\"additional_fields\"].map(lambda x: x[\"wc_door_width\"])\n",
    "df[42] = df[42].map(lambda x: int(x) if x != \"\" else 150)\n",
    "df[42] = df[42].map(lambda x: x if x > 15 else x*10)"
   ]
  },
  {
   "cell_type": "code",
   "execution_count": 18,
   "id": "0e8adda4",
   "metadata": {},
   "outputs": [],
   "source": [
    "x = pd.get_dummies(df.icons.apply(pd.Series).stack()).sum(level=0)\n",
    "x = x.rename(int, axis=\"columns\")\n",
    "col = list(x.columns)\n",
    "for i in [40, 41, 42]:\n",
    "    col.append(i)"
   ]
  },
  {
   "cell_type": "code",
   "execution_count": null,
   "id": "9705af47",
   "metadata": {},
   "outputs": [],
   "source": []
  },
  {
   "cell_type": "code",
   "execution_count": 19,
   "id": "91a48797",
   "metadata": {},
   "outputs": [],
   "source": [
    "df = df.rename(columns={40:\"eurokey\", 41: \"ramp_steepness\", 42: \"door_width\"})"
   ]
  },
  {
   "cell_type": "code",
   "execution_count": 20,
   "id": "f84983fb",
   "metadata": {},
   "outputs": [],
   "source": [
    "# df.drop([\"icons\"], axis=1, inplace=True)\n",
    "# df = pd.concat([df, x], axis=1)"
   ]
  },
  {
   "cell_type": "code",
   "execution_count": 21,
   "id": "4b20be40",
   "metadata": {
    "scrolled": false
   },
   "outputs": [],
   "source": [
    "# def check(series):\n",
    "#     x = {}\n",
    "#     for i in series.index:\n",
    "#         if i in col:\n",
    "#             x.update({i: series[i]})\n",
    "#         else:\n",
    "#             continue\n",
    "#     return x"
   ]
  },
  {
   "cell_type": "code",
   "execution_count": 22,
   "id": "c39c2a4e",
   "metadata": {},
   "outputs": [],
   "source": [
    "# df[\"options\"] = df.apply(lambda x: check(x), axis=1)"
   ]
  },
  {
   "cell_type": "code",
   "execution_count": 23,
   "id": "4cb8961c",
   "metadata": {},
   "outputs": [],
   "source": [
    "# df.drop(col, axis=1, inplace=True)"
   ]
  },
  {
   "cell_type": "code",
   "execution_count": 24,
   "id": "43af874c",
   "metadata": {},
   "outputs": [],
   "source": [
    "# columns = pd.DataFrame.from_dict(new_dict, orient=\"index\", columns=[\"option_name\"])\n",
    "# columns.index.name = \"id\""
   ]
  },
  {
   "cell_type": "code",
   "execution_count": 25,
   "id": "f5eb4131",
   "metadata": {},
   "outputs": [],
   "source": [
    "# columns.to_csv(\"options.csv\")"
   ]
  },
  {
   "cell_type": "code",
   "execution_count": 26,
   "id": "1d2c68ae",
   "metadata": {},
   "outputs": [],
   "source": [
    "df[\"photo\"] = df[\"image\"].map(lambda x: x[\"image_small\"])\n",
    "df[\"plan\"] = df[\"additional_fields\"].map(lambda x: \"images/wc-plan/\" + x[\"wc_plan\"] + \".jpg\")\n",
    "#df[\"seat_height\"] = df[\"additional_fields\"].map(lambda x: x[\"wc_seat\"])"
   ]
  },
  {
   "cell_type": "code",
   "execution_count": 27,
   "id": "2ecf8022",
   "metadata": {
    "scrolled": false
   },
   "outputs": [],
   "source": [
    "#df[\"seat_height\"] = df[\"seat_height\"].map(lambda x: x[:2] if x != \"\" else None)"
   ]
  },
  {
   "cell_type": "code",
   "execution_count": 28,
   "id": "6c9016ac",
   "metadata": {},
   "outputs": [
    {
     "data": {
      "text/html": [
       "<div>\n",
       "<style scoped>\n",
       "    .dataframe tbody tr th:only-of-type {\n",
       "        vertical-align: middle;\n",
       "    }\n",
       "\n",
       "    .dataframe tbody tr th {\n",
       "        vertical-align: top;\n",
       "    }\n",
       "\n",
       "    .dataframe thead th {\n",
       "        text-align: right;\n",
       "    }\n",
       "</style>\n",
       "<table border=\"1\" class=\"dataframe\">\n",
       "  <thead>\n",
       "    <tr style=\"text-align: right;\">\n",
       "      <th></th>\n",
       "      <th>title</th>\n",
       "      <th>short_description</th>\n",
       "      <th>description</th>\n",
       "      <th>latitude</th>\n",
       "      <th>longitude</th>\n",
       "      <th>address</th>\n",
       "      <th>zip_code</th>\n",
       "      <th>city</th>\n",
       "      <th>country</th>\n",
       "      <th>additional_fields</th>\n",
       "      <th>image</th>\n",
       "      <th>icons</th>\n",
       "      <th>modified</th>\n",
       "      <th>position</th>\n",
       "      <th>eurokey</th>\n",
       "      <th>ramp_steepness</th>\n",
       "      <th>door_width</th>\n",
       "      <th>photo</th>\n",
       "      <th>plan</th>\n",
       "    </tr>\n",
       "  </thead>\n",
       "  <tbody>\n",
       "    <tr>\n",
       "      <th>0</th>\n",
       "      <td>WC U-Bahnhof Stiglmaierplatz</td>\n",
       "      <td>Die behindertengerechte Toilette ist geschloss...</td>\n",
       "      <td></td>\n",
       "      <td>48.1475</td>\n",
       "      <td>11.5586</td>\n",
       "      <td>Johann-Fichte-Str. 12</td>\n",
       "      <td>80805</td>\n",
       "      <td>MÃ¼nchen</td>\n",
       "      <td>DE</td>\n",
       "      <td>{'wc_shortname': 'bf-stiglm1WC', 'wc_plan': 'b...</td>\n",
       "      <td>{'image_small': 'images/wc-af/a-WC-verschwunde...</td>\n",
       "      <td>[21]</td>\n",
       "      <td>2021-10-06 08:10:00</td>\n",
       "      <td>(48.1475, 11.5586)</td>\n",
       "      <td>1</td>\n",
       "      <td>0.0</td>\n",
       "      <td>100</td>\n",
       "      <td>images/wc-af/a-WC-verschwunden.jpg</td>\n",
       "      <td>images/wc-plan/bf-stiglm1WC1.jpg</td>\n",
       "    </tr>\n",
       "    <tr>\n",
       "      <th>1</th>\n",
       "      <td>WC Bad Georgenschwaige Damen</td>\n",
       "      <td>Bedingt Ã¶ffentliche Toilette in einem Freibad.</td>\n",
       "      <td>&lt;p&gt;Das &lt;strong&gt;Damen-WC&lt;/strong&gt; ist im Umklei...</td>\n",
       "      <td>48.1756</td>\n",
       "      <td>11.5717</td>\n",
       "      <td>Belgradstr. 195</td>\n",
       "      <td>80804</td>\n",
       "      <td>MÃ¼nchen</td>\n",
       "      <td>DE</td>\n",
       "      <td>{'wc_shortname': 'ba-george1WC1', 'wc_plan': '...</td>\n",
       "      <td>{'image_small': 'images/wc-af/ba-george1WC1f1....</td>\n",
       "      <td>[4, 11]</td>\n",
       "      <td>2021-09-08 09:21:00</td>\n",
       "      <td>(48.1756, 11.5717)</td>\n",
       "      <td>0</td>\n",
       "      <td>0.0</td>\n",
       "      <td>85</td>\n",
       "      <td>images/wc-af/ba-george1WC1f1.jpg</td>\n",
       "      <td>images/wc-plan/ba-george1WC1.jpg</td>\n",
       "    </tr>\n",
       "    <tr>\n",
       "      <th>2</th>\n",
       "      <td>WC Bad Georgenschwaige Herren</td>\n",
       "      <td>Bedingt Ã¶ffentliche Toilette in einem Freibad.</td>\n",
       "      <td>&lt;p&gt;Das &lt;strong&gt;Herren-WC ist im Umkleidebau&lt;/s...</td>\n",
       "      <td>48.1756</td>\n",
       "      <td>11.5717</td>\n",
       "      <td>Belgradstr. 195</td>\n",
       "      <td>80804</td>\n",
       "      <td>MÃ¼nchen</td>\n",
       "      <td>DE</td>\n",
       "      <td>{'wc_shortname': 'ba-george1WC2', 'wc_plan': '...</td>\n",
       "      <td>{'image_small': 'images/wc-af/ba-george1WC2f1....</td>\n",
       "      <td>[6, 20]</td>\n",
       "      <td>2021-09-08 09:21:00</td>\n",
       "      <td>(48.1756, 11.5717)</td>\n",
       "      <td>0</td>\n",
       "      <td>0.0</td>\n",
       "      <td>85</td>\n",
       "      <td>images/wc-af/ba-george1WC2f1.jpg</td>\n",
       "      <td>images/wc-plan/ba-george1WC2.jpg</td>\n",
       "    </tr>\n",
       "    <tr>\n",
       "      <th>3</th>\n",
       "      <td>WC Freibad Unterhaching</td>\n",
       "      <td>Bedingt Ã¶ffentliche Toilette mit Dusche in ei...</td>\n",
       "      <td>&lt;p&gt;Das rollstuhlgerechte WC des Unterhachinger...</td>\n",
       "      <td>48.0619</td>\n",
       "      <td>11.6208</td>\n",
       "      <td>Schrenkstr. 2</td>\n",
       "      <td>82008</td>\n",
       "      <td>Unterhaching</td>\n",
       "      <td>Deutschland</td>\n",
       "      <td>{'wc_shortname': 'ba-unterh1WC', 'wc_plan': 'b...</td>\n",
       "      <td>{'image_small': 'images/wc-af/ba-unterh1WC1f1....</td>\n",
       "      <td>[4, 8, 11]</td>\n",
       "      <td>2021-10-06 08:10:00</td>\n",
       "      <td>(48.0619, 11.6208)</td>\n",
       "      <td>1</td>\n",
       "      <td>0.0</td>\n",
       "      <td>75</td>\n",
       "      <td>images/wc-af/ba-unterh1WC1f1.jpg</td>\n",
       "      <td>images/wc-plan/ba-unterh1WC.jpg</td>\n",
       "    </tr>\n",
       "    <tr>\n",
       "      <th>4</th>\n",
       "      <td>WC U-Bahnhof MÃ¼nchner Freiheit</td>\n",
       "      <td>Ã–ffentliche Toilette im U-Bahnhof, zugÃ¤nglic...</td>\n",
       "      <td>&lt;p&gt;Das rollstuhlgerechte WC des U-Bahnhofs MÃ¼...</td>\n",
       "      <td>48.1622</td>\n",
       "      <td>11.5870</td>\n",
       "      <td>MÃ¼nchner Freiheit</td>\n",
       "      <td>80802</td>\n",
       "      <td>MÃ¼nchen</td>\n",
       "      <td>DE</td>\n",
       "      <td>{'wc_shortname': 'bf-muefre1WC', 'wc_plan': 'b...</td>\n",
       "      <td>{'image_small': 'images/wc-af/bf-muefre1WC1f1....</td>\n",
       "      <td>[4, 11, 12]</td>\n",
       "      <td>2021-10-06 08:09:00</td>\n",
       "      <td>(48.1622, 11.587)</td>\n",
       "      <td>1</td>\n",
       "      <td>0.0</td>\n",
       "      <td>85</td>\n",
       "      <td>images/wc-af/bf-muefre1WC1f1.jpg</td>\n",
       "      <td>images/wc-plan/bf-muefre1WC1.jpg</td>\n",
       "    </tr>\n",
       "  </tbody>\n",
       "</table>\n",
       "</div>"
      ],
      "text/plain": [
       "                             title  \\\n",
       "0     WC U-Bahnhof Stiglmaierplatz   \n",
       "1    WC Bad Georgenschwaige Damen    \n",
       "2    WC Bad Georgenschwaige Herren   \n",
       "3          WC Freibad Unterhaching   \n",
       "4  WC U-Bahnhof MÃ¼nchner Freiheit   \n",
       "\n",
       "                                   short_description  \\\n",
       "0  Die behindertengerechte Toilette ist geschloss...   \n",
       "1    Bedingt Ã¶ffentliche Toilette in einem Freibad.   \n",
       "2    Bedingt Ã¶ffentliche Toilette in einem Freibad.   \n",
       "3  Bedingt Ã¶ffentliche Toilette mit Dusche in ei...   \n",
       "4  Ã–ffentliche Toilette im U-Bahnhof, zugÃ¤nglic...   \n",
       "\n",
       "                                         description  latitude  longitude  \\\n",
       "0                                                      48.1475    11.5586   \n",
       "1  <p>Das <strong>Damen-WC</strong> ist im Umklei...   48.1756    11.5717   \n",
       "2  <p>Das <strong>Herren-WC ist im Umkleidebau</s...   48.1756    11.5717   \n",
       "3  <p>Das rollstuhlgerechte WC des Unterhachinger...   48.0619    11.6208   \n",
       "4  <p>Das rollstuhlgerechte WC des U-Bahnhofs MÃ¼...   48.1622    11.5870   \n",
       "\n",
       "                  address  zip_code          city      country  \\\n",
       "0  Johann-Fichte-Str. 12      80805      MÃ¼nchen           DE   \n",
       "1         Belgradstr. 195     80804      MÃ¼nchen           DE   \n",
       "2         Belgradstr. 195     80804      MÃ¼nchen           DE   \n",
       "3           Schrenkstr. 2     82008  Unterhaching  Deutschland   \n",
       "4     MÃ¼nchner Freiheit      80802      MÃ¼nchen           DE   \n",
       "\n",
       "                                   additional_fields  \\\n",
       "0  {'wc_shortname': 'bf-stiglm1WC', 'wc_plan': 'b...   \n",
       "1  {'wc_shortname': 'ba-george1WC1', 'wc_plan': '...   \n",
       "2  {'wc_shortname': 'ba-george1WC2', 'wc_plan': '...   \n",
       "3  {'wc_shortname': 'ba-unterh1WC', 'wc_plan': 'b...   \n",
       "4  {'wc_shortname': 'bf-muefre1WC', 'wc_plan': 'b...   \n",
       "\n",
       "                                               image        icons  \\\n",
       "0  {'image_small': 'images/wc-af/a-WC-verschwunde...         [21]   \n",
       "1  {'image_small': 'images/wc-af/ba-george1WC1f1....      [4, 11]   \n",
       "2  {'image_small': 'images/wc-af/ba-george1WC2f1....      [6, 20]   \n",
       "3  {'image_small': 'images/wc-af/ba-unterh1WC1f1....   [4, 8, 11]   \n",
       "4  {'image_small': 'images/wc-af/bf-muefre1WC1f1....  [4, 11, 12]   \n",
       "\n",
       "             modified            position  eurokey  ramp_steepness  \\\n",
       "0 2021-10-06 08:10:00  (48.1475, 11.5586)        1             0.0   \n",
       "1 2021-09-08 09:21:00  (48.1756, 11.5717)        0             0.0   \n",
       "2 2021-09-08 09:21:00  (48.1756, 11.5717)        0             0.0   \n",
       "3 2021-10-06 08:10:00  (48.0619, 11.6208)        1             0.0   \n",
       "4 2021-10-06 08:09:00   (48.1622, 11.587)        1             0.0   \n",
       "\n",
       "   door_width                               photo  \\\n",
       "0         100  images/wc-af/a-WC-verschwunden.jpg   \n",
       "1          85    images/wc-af/ba-george1WC1f1.jpg   \n",
       "2          85    images/wc-af/ba-george1WC2f1.jpg   \n",
       "3          75    images/wc-af/ba-unterh1WC1f1.jpg   \n",
       "4          85    images/wc-af/bf-muefre1WC1f1.jpg   \n",
       "\n",
       "                               plan  \n",
       "0  images/wc-plan/bf-stiglm1WC1.jpg  \n",
       "1  images/wc-plan/ba-george1WC1.jpg  \n",
       "2  images/wc-plan/ba-george1WC2.jpg  \n",
       "3   images/wc-plan/ba-unterh1WC.jpg  \n",
       "4  images/wc-plan/bf-muefre1WC1.jpg  "
      ]
     },
     "execution_count": 28,
     "metadata": {},
     "output_type": "execute_result"
    }
   ],
   "source": [
    "df.head()"
   ]
  },
  {
   "cell_type": "code",
   "execution_count": null,
   "id": "c73d24ba",
   "metadata": {},
   "outputs": [],
   "source": [
    "df[df['icons'].isin([[21]])].index\n",
    "#df = df.drop(df.loc[df['icons'].isin([[21]])].index)"
   ]
  },
  {
   "cell_type": "code",
   "execution_count": null,
   "id": "b9891148",
   "metadata": {},
   "outputs": [],
   "source": []
  },
  {
   "cell_type": "code",
   "execution_count": null,
   "id": "d08249fd",
   "metadata": {},
   "outputs": [],
   "source": [
    "df = df[[\"title\", \"short_description\", \"photo\", \"plan\", \"position\", \"address\", \"eurokey\", \"ramp_steepness\", \"door_width\"]]"
   ]
  },
  {
   "cell_type": "code",
   "execution_count": null,
   "id": "8cfc3011",
   "metadata": {},
   "outputs": [],
   "source": [
    "df.head()"
   ]
  },
  {
   "cell_type": "code",
   "execution_count": null,
   "id": "4649b0bc",
   "metadata": {},
   "outputs": [],
   "source": [
    "errors = pd.read_excel(\"toilets_text errors.xlsx\")"
   ]
  },
  {
   "cell_type": "code",
   "execution_count": null,
   "id": "396c5fcf",
   "metadata": {},
   "outputs": [],
   "source": [
    "errors.dropna(inplace=True)"
   ]
  },
  {
   "cell_type": "code",
   "execution_count": null,
   "id": "bb4a507c",
   "metadata": {},
   "outputs": [],
   "source": [
    "list(errors[\"Text error\"])"
   ]
  },
  {
   "cell_type": "code",
   "execution_count": null,
   "id": "d1a2b5d3",
   "metadata": {},
   "outputs": [],
   "source": [
    "import re\n",
    "\n",
    "errors = pd.Series(errors[\"correction\"].values,index=errors[\"Text error\"]).to_dict()\n",
    "\n",
    "# use these three lines to do the replacement\n",
    "rep = dict((re.escape(k), v) for k, v in errors.items()) \n",
    "#Python 3 renamed dict.iteritems to dict.items so use rep.items() for latest versions\n",
    "pattern = re.compile(\"|\".join(rep.keys()))"
   ]
  },
  {
   "cell_type": "code",
   "execution_count": null,
   "id": "0b058197",
   "metadata": {},
   "outputs": [],
   "source": [
    "df[\"short_description\"] = df[\"short_description\"].map(lambda x: pattern.sub(lambda m: rep[re.escape(m.group(0))], x))\n",
    "df[\"title\"] = df[\"title\"].map(lambda x: pattern.sub(lambda m: rep[re.escape(m.group(0))], x))"
   ]
  },
  {
   "cell_type": "code",
   "execution_count": null,
   "id": "b1936676",
   "metadata": {},
   "outputs": [],
   "source": [
    "df.head()"
   ]
  },
  {
   "cell_type": "code",
   "execution_count": null,
   "id": "2fea8c69",
   "metadata": {},
   "outputs": [],
   "source": [
    "df.ramp_steepness.value_counts()"
   ]
  },
  {
   "cell_type": "code",
   "execution_count": null,
   "id": "75905564",
   "metadata": {},
   "outputs": [],
   "source": [
    "df.info()"
   ]
  },
  {
   "cell_type": "code",
   "execution_count": null,
   "id": "c9b40283",
   "metadata": {},
   "outputs": [],
   "source": [
    "df.to_json(\"toilets_v5.json\")"
   ]
  },
  {
   "cell_type": "code",
   "execution_count": null,
   "id": "443ebf62",
   "metadata": {},
   "outputs": [],
   "source": []
  },
  {
   "cell_type": "code",
   "execution_count": 1,
   "id": "5a4d8bdb",
   "metadata": {},
   "outputs": [],
   "source": [
    "import pandas as pd"
   ]
  },
  {
   "cell_type": "code",
   "execution_count": 6,
   "id": "dbe4d957",
   "metadata": {},
   "outputs": [],
   "source": [
    "df = pd.read_json(\"toilets_v6.json\")"
   ]
  },
  {
   "cell_type": "code",
   "execution_count": 7,
   "id": "6cff7a9b",
   "metadata": {},
   "outputs": [
    {
     "data": {
      "text/html": [
       "<div>\n",
       "<style scoped>\n",
       "    .dataframe tbody tr th:only-of-type {\n",
       "        vertical-align: middle;\n",
       "    }\n",
       "\n",
       "    .dataframe tbody tr th {\n",
       "        vertical-align: top;\n",
       "    }\n",
       "\n",
       "    .dataframe thead th {\n",
       "        text-align: right;\n",
       "    }\n",
       "</style>\n",
       "<table border=\"1\" class=\"dataframe\">\n",
       "  <thead>\n",
       "    <tr style=\"text-align: right;\">\n",
       "      <th></th>\n",
       "      <th>title</th>\n",
       "      <th>short_description</th>\n",
       "      <th>photo</th>\n",
       "      <th>plan</th>\n",
       "      <th>position</th>\n",
       "      <th>address</th>\n",
       "      <th>eurokey</th>\n",
       "      <th>ramp_steepness</th>\n",
       "      <th>door_width</th>\n",
       "    </tr>\n",
       "  </thead>\n",
       "  <tbody>\n",
       "    <tr>\n",
       "      <th>1</th>\n",
       "      <td>WC Bad Georgenschwaige Damen</td>\n",
       "      <td>Bedingt öffentliche Toilette in einem Freibad.</td>\n",
       "      <td>get_image/images/wc-af/ba-george1WC1f1.jpg</td>\n",
       "      <td>get_layout/images/wc-plan/ba-george1WC1.jpg</td>\n",
       "      <td>[48.1756, 11.5717]</td>\n",
       "      <td>Belgradstr. 195</td>\n",
       "      <td>0</td>\n",
       "      <td>0.0</td>\n",
       "      <td>85</td>\n",
       "    </tr>\n",
       "    <tr>\n",
       "      <th>2</th>\n",
       "      <td>WC Bad Georgenschwaige Herren</td>\n",
       "      <td>Bedingt öffentliche Toilette in einem Freibad.</td>\n",
       "      <td>get_image/images/wc-af/ba-george1WC2f1.jpg</td>\n",
       "      <td>get_layout/images/wc-plan/ba-george1WC2.jpg</td>\n",
       "      <td>[48.1756, 11.5717]</td>\n",
       "      <td>Belgradstr. 195</td>\n",
       "      <td>0</td>\n",
       "      <td>0.0</td>\n",
       "      <td>85</td>\n",
       "    </tr>\n",
       "    <tr>\n",
       "      <th>3</th>\n",
       "      <td>WC Freibad Unterhaching</td>\n",
       "      <td>Bedingt öffentliche Toilette mit Dusche in ein...</td>\n",
       "      <td>get_image/images/wc-af/ba-unterh1WC1f1.jpg</td>\n",
       "      <td>get_layout/images/wc-plan/ba-unterh1WC.jpg</td>\n",
       "      <td>[48.0619, 11.6208]</td>\n",
       "      <td>Schrenkstr. 2</td>\n",
       "      <td>1</td>\n",
       "      <td>0.0</td>\n",
       "      <td>75</td>\n",
       "    </tr>\n",
       "    <tr>\n",
       "      <th>4</th>\n",
       "      <td>WC U-Bahnhof Münchner Freiheit</td>\n",
       "      <td>Öffentliche Toilette im U-Bahnhof, zugänglich ...</td>\n",
       "      <td>get_image/images/wc-af/bf-muefre1WC1f1.jpg</td>\n",
       "      <td>get_layout/images/wc-plan/bf-muefre1WC1.jpg</td>\n",
       "      <td>[48.1622, 11.587]</td>\n",
       "      <td>MÃ¼nchner Freiheit</td>\n",
       "      <td>1</td>\n",
       "      <td>0.0</td>\n",
       "      <td>85</td>\n",
       "    </tr>\n",
       "    <tr>\n",
       "      <th>5</th>\n",
       "      <td>WC Dynasty Unterhaching</td>\n",
       "      <td>Halböffentliche Toilette in einem Lokal.</td>\n",
       "      <td>get_image/images/wc-af/dynast1WC1f1.jpg</td>\n",
       "      <td>get_layout/images/wc-plan/dynast1WC.jpg</td>\n",
       "      <td>[48.0556, 11.6076]</td>\n",
       "      <td>Inselkammerstr. 3</td>\n",
       "      <td>0</td>\n",
       "      <td>0.0</td>\n",
       "      <td>90</td>\n",
       "    </tr>\n",
       "  </tbody>\n",
       "</table>\n",
       "</div>"
      ],
      "text/plain": [
       "                            title  \\\n",
       "1   WC Bad Georgenschwaige Damen    \n",
       "2   WC Bad Georgenschwaige Herren   \n",
       "3         WC Freibad Unterhaching   \n",
       "4  WC U-Bahnhof Münchner Freiheit   \n",
       "5         WC Dynasty Unterhaching   \n",
       "\n",
       "                                   short_description  \\\n",
       "1     Bedingt öffentliche Toilette in einem Freibad.   \n",
       "2     Bedingt öffentliche Toilette in einem Freibad.   \n",
       "3  Bedingt öffentliche Toilette mit Dusche in ein...   \n",
       "4  Öffentliche Toilette im U-Bahnhof, zugänglich ...   \n",
       "5           Halböffentliche Toilette in einem Lokal.   \n",
       "\n",
       "                                        photo  \\\n",
       "1  get_image/images/wc-af/ba-george1WC1f1.jpg   \n",
       "2  get_image/images/wc-af/ba-george1WC2f1.jpg   \n",
       "3  get_image/images/wc-af/ba-unterh1WC1f1.jpg   \n",
       "4  get_image/images/wc-af/bf-muefre1WC1f1.jpg   \n",
       "5     get_image/images/wc-af/dynast1WC1f1.jpg   \n",
       "\n",
       "                                          plan            position  \\\n",
       "1  get_layout/images/wc-plan/ba-george1WC1.jpg  [48.1756, 11.5717]   \n",
       "2  get_layout/images/wc-plan/ba-george1WC2.jpg  [48.1756, 11.5717]   \n",
       "3   get_layout/images/wc-plan/ba-unterh1WC.jpg  [48.0619, 11.6208]   \n",
       "4  get_layout/images/wc-plan/bf-muefre1WC1.jpg   [48.1622, 11.587]   \n",
       "5      get_layout/images/wc-plan/dynast1WC.jpg  [48.0556, 11.6076]   \n",
       "\n",
       "               address  eurokey  ramp_steepness  door_width  \n",
       "1      Belgradstr. 195        0             0.0          85  \n",
       "2      Belgradstr. 195        0             0.0          85  \n",
       "3        Schrenkstr. 2        1             0.0          75  \n",
       "4  MÃ¼nchner Freiheit         1             0.0          85  \n",
       "5    Inselkammerstr. 3        0             0.0          90  "
      ]
     },
     "execution_count": 7,
     "metadata": {},
     "output_type": "execute_result"
    }
   ],
   "source": [
    "df.head()"
   ]
  },
  {
   "cell_type": "code",
   "execution_count": 8,
   "id": "7bc595f1",
   "metadata": {},
   "outputs": [],
   "source": [
    "df[\"id\"] = df.index"
   ]
  },
  {
   "cell_type": "code",
   "execution_count": 9,
   "id": "7ee32e6b",
   "metadata": {},
   "outputs": [
    {
     "data": {
      "text/html": [
       "<div>\n",
       "<style scoped>\n",
       "    .dataframe tbody tr th:only-of-type {\n",
       "        vertical-align: middle;\n",
       "    }\n",
       "\n",
       "    .dataframe tbody tr th {\n",
       "        vertical-align: top;\n",
       "    }\n",
       "\n",
       "    .dataframe thead th {\n",
       "        text-align: right;\n",
       "    }\n",
       "</style>\n",
       "<table border=\"1\" class=\"dataframe\">\n",
       "  <thead>\n",
       "    <tr style=\"text-align: right;\">\n",
       "      <th></th>\n",
       "      <th>title</th>\n",
       "      <th>short_description</th>\n",
       "      <th>photo</th>\n",
       "      <th>plan</th>\n",
       "      <th>position</th>\n",
       "      <th>address</th>\n",
       "      <th>eurokey</th>\n",
       "      <th>ramp_steepness</th>\n",
       "      <th>door_width</th>\n",
       "      <th>id</th>\n",
       "    </tr>\n",
       "  </thead>\n",
       "  <tbody>\n",
       "    <tr>\n",
       "      <th>1</th>\n",
       "      <td>WC Bad Georgenschwaige Damen</td>\n",
       "      <td>Bedingt öffentliche Toilette in einem Freibad.</td>\n",
       "      <td>get_image/images/wc-af/ba-george1WC1f1.jpg</td>\n",
       "      <td>get_layout/images/wc-plan/ba-george1WC1.jpg</td>\n",
       "      <td>[48.1756, 11.5717]</td>\n",
       "      <td>Belgradstr. 195</td>\n",
       "      <td>0</td>\n",
       "      <td>0.0</td>\n",
       "      <td>85</td>\n",
       "      <td>1</td>\n",
       "    </tr>\n",
       "    <tr>\n",
       "      <th>2</th>\n",
       "      <td>WC Bad Georgenschwaige Herren</td>\n",
       "      <td>Bedingt öffentliche Toilette in einem Freibad.</td>\n",
       "      <td>get_image/images/wc-af/ba-george1WC2f1.jpg</td>\n",
       "      <td>get_layout/images/wc-plan/ba-george1WC2.jpg</td>\n",
       "      <td>[48.1756, 11.5717]</td>\n",
       "      <td>Belgradstr. 195</td>\n",
       "      <td>0</td>\n",
       "      <td>0.0</td>\n",
       "      <td>85</td>\n",
       "      <td>2</td>\n",
       "    </tr>\n",
       "    <tr>\n",
       "      <th>3</th>\n",
       "      <td>WC Freibad Unterhaching</td>\n",
       "      <td>Bedingt öffentliche Toilette mit Dusche in ein...</td>\n",
       "      <td>get_image/images/wc-af/ba-unterh1WC1f1.jpg</td>\n",
       "      <td>get_layout/images/wc-plan/ba-unterh1WC.jpg</td>\n",
       "      <td>[48.0619, 11.6208]</td>\n",
       "      <td>Schrenkstr. 2</td>\n",
       "      <td>1</td>\n",
       "      <td>0.0</td>\n",
       "      <td>75</td>\n",
       "      <td>3</td>\n",
       "    </tr>\n",
       "    <tr>\n",
       "      <th>4</th>\n",
       "      <td>WC U-Bahnhof Münchner Freiheit</td>\n",
       "      <td>Öffentliche Toilette im U-Bahnhof, zugänglich ...</td>\n",
       "      <td>get_image/images/wc-af/bf-muefre1WC1f1.jpg</td>\n",
       "      <td>get_layout/images/wc-plan/bf-muefre1WC1.jpg</td>\n",
       "      <td>[48.1622, 11.587]</td>\n",
       "      <td>MÃ¼nchner Freiheit</td>\n",
       "      <td>1</td>\n",
       "      <td>0.0</td>\n",
       "      <td>85</td>\n",
       "      <td>4</td>\n",
       "    </tr>\n",
       "    <tr>\n",
       "      <th>5</th>\n",
       "      <td>WC Dynasty Unterhaching</td>\n",
       "      <td>Halböffentliche Toilette in einem Lokal.</td>\n",
       "      <td>get_image/images/wc-af/dynast1WC1f1.jpg</td>\n",
       "      <td>get_layout/images/wc-plan/dynast1WC.jpg</td>\n",
       "      <td>[48.0556, 11.6076]</td>\n",
       "      <td>Inselkammerstr. 3</td>\n",
       "      <td>0</td>\n",
       "      <td>0.0</td>\n",
       "      <td>90</td>\n",
       "      <td>5</td>\n",
       "    </tr>\n",
       "  </tbody>\n",
       "</table>\n",
       "</div>"
      ],
      "text/plain": [
       "                            title  \\\n",
       "1   WC Bad Georgenschwaige Damen    \n",
       "2   WC Bad Georgenschwaige Herren   \n",
       "3         WC Freibad Unterhaching   \n",
       "4  WC U-Bahnhof Münchner Freiheit   \n",
       "5         WC Dynasty Unterhaching   \n",
       "\n",
       "                                   short_description  \\\n",
       "1     Bedingt öffentliche Toilette in einem Freibad.   \n",
       "2     Bedingt öffentliche Toilette in einem Freibad.   \n",
       "3  Bedingt öffentliche Toilette mit Dusche in ein...   \n",
       "4  Öffentliche Toilette im U-Bahnhof, zugänglich ...   \n",
       "5           Halböffentliche Toilette in einem Lokal.   \n",
       "\n",
       "                                        photo  \\\n",
       "1  get_image/images/wc-af/ba-george1WC1f1.jpg   \n",
       "2  get_image/images/wc-af/ba-george1WC2f1.jpg   \n",
       "3  get_image/images/wc-af/ba-unterh1WC1f1.jpg   \n",
       "4  get_image/images/wc-af/bf-muefre1WC1f1.jpg   \n",
       "5     get_image/images/wc-af/dynast1WC1f1.jpg   \n",
       "\n",
       "                                          plan            position  \\\n",
       "1  get_layout/images/wc-plan/ba-george1WC1.jpg  [48.1756, 11.5717]   \n",
       "2  get_layout/images/wc-plan/ba-george1WC2.jpg  [48.1756, 11.5717]   \n",
       "3   get_layout/images/wc-plan/ba-unterh1WC.jpg  [48.0619, 11.6208]   \n",
       "4  get_layout/images/wc-plan/bf-muefre1WC1.jpg   [48.1622, 11.587]   \n",
       "5      get_layout/images/wc-plan/dynast1WC.jpg  [48.0556, 11.6076]   \n",
       "\n",
       "               address  eurokey  ramp_steepness  door_width  id  \n",
       "1      Belgradstr. 195        0             0.0          85   1  \n",
       "2      Belgradstr. 195        0             0.0          85   2  \n",
       "3        Schrenkstr. 2        1             0.0          75   3  \n",
       "4  MÃ¼nchner Freiheit         1             0.0          85   4  \n",
       "5    Inselkammerstr. 3        0             0.0          90   5  "
      ]
     },
     "execution_count": 9,
     "metadata": {},
     "output_type": "execute_result"
    }
   ],
   "source": [
    "df.head()"
   ]
  },
  {
   "cell_type": "code",
   "execution_count": 10,
   "id": "f2af7dc2",
   "metadata": {},
   "outputs": [],
   "source": [
    "df.to_json(\"toilets_v7.json\")"
   ]
  },
  {
   "cell_type": "code",
   "execution_count": null,
   "id": "ad65e520",
   "metadata": {},
   "outputs": [],
   "source": []
  }
 ],
 "metadata": {
  "kernelspec": {
   "display_name": "Python 3",
   "language": "python",
   "name": "python3"
  },
  "language_info": {
   "codemirror_mode": {
    "name": "ipython",
    "version": 3
   },
   "file_extension": ".py",
   "mimetype": "text/x-python",
   "name": "python",
   "nbconvert_exporter": "python",
   "pygments_lexer": "ipython3",
   "version": "3.8.8"
  }
 },
 "nbformat": 4,
 "nbformat_minor": 5
}
