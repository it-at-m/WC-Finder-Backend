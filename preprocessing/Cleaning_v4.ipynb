{
 "cells": [
  {
   "cell_type": "code",
   "execution_count": 137,
   "id": "4cdcf421",
   "metadata": {},
   "outputs": [],
   "source": [
    "import pandas as pd"
   ]
  },
  {
   "cell_type": "code",
   "execution_count": 138,
   "id": "53b5edde",
   "metadata": {},
   "outputs": [],
   "source": [
    "df = pd.read_csv(\"dpschool2a.csv\", delimiter=\";\")"
   ]
  },
  {
   "cell_type": "code",
   "execution_count": 139,
   "id": "d24f3b36",
   "metadata": {},
   "outputs": [
    {
     "data": {
      "text/html": [
       "<div>\n",
       "<style scoped>\n",
       "    .dataframe tbody tr th:only-of-type {\n",
       "        vertical-align: middle;\n",
       "    }\n",
       "\n",
       "    .dataframe tbody tr th {\n",
       "        vertical-align: top;\n",
       "    }\n",
       "\n",
       "    .dataframe thead th {\n",
       "        text-align: right;\n",
       "    }\n",
       "</style>\n",
       "<table border=\"1\" class=\"dataframe\">\n",
       "  <thead>\n",
       "    <tr style=\"text-align: right;\">\n",
       "      <th></th>\n",
       "      <th>title</th>\n",
       "      <th>alias</th>\n",
       "      <th>type</th>\n",
       "      <th>catid</th>\n",
       "      <th>short_description</th>\n",
       "      <th>description</th>\n",
       "      <th>geodata</th>\n",
       "      <th>latitude</th>\n",
       "      <th>longitude</th>\n",
       "      <th>geo_x</th>\n",
       "      <th>...</th>\n",
       "      <th>country</th>\n",
       "      <th>phone</th>\n",
       "      <th>url</th>\n",
       "      <th>email</th>\n",
       "      <th>additional_fields</th>\n",
       "      <th>image</th>\n",
       "      <th>icons</th>\n",
       "      <th>published</th>\n",
       "      <th>created</th>\n",
       "      <th>modified</th>\n",
       "    </tr>\n",
       "  </thead>\n",
       "  <tbody>\n",
       "    <tr>\n",
       "      <th>0</th>\n",
       "      <td>WC U-Bahnhof Stiglmaierplatz</td>\n",
       "      <td>wc-bahnhof-stiglmaierplatz</td>\n",
       "      <td>toilet</td>\n",
       "      <td>188</td>\n",
       "      <td>Die behindertengerechte Toilette ist geschloss...</td>\n",
       "      <td>NaN</td>\n",
       "      <td>1</td>\n",
       "      <td>481.475.266</td>\n",
       "      <td>115.586.581</td>\n",
       "      <td>41.646.198.670.958</td>\n",
       "      <td>...</td>\n",
       "      <td>DE</td>\n",
       "      <td>089 3 56 88 08</td>\n",
       "      <td>https://www.cbf-muenchen.de/der-cbf/kontakt</td>\n",
       "      <td>info@cbf-muenchen.de</td>\n",
       "      <td>{\"wc_shortname\":\"bf-stiglm1WC\",\"wc_plan\":\"bf-s...</td>\n",
       "      <td>{\"image_small\":\"images\\/wc-af\\/a-WC-verschwund...</td>\n",
       "      <td>{\"0\":\"21\"}</td>\n",
       "      <td>0</td>\n",
       "      <td>3/3/2015 15:09</td>\n",
       "      <td>10/06/2021 08:10</td>\n",
       "    </tr>\n",
       "    <tr>\n",
       "      <th>1</th>\n",
       "      <td>WC Bad Georgenschwaige Damen</td>\n",
       "      <td>wc-bad-georgenschwaige-damen</td>\n",
       "      <td>toilet</td>\n",
       "      <td>187</td>\n",
       "      <td>Bedingt Ã¶ffentliche Toilette in einem Freibad.</td>\n",
       "      <td>&lt;p&gt;Das &lt;strong&gt;Damen-WC&lt;/strong&gt; ist im Umklei...</td>\n",
       "      <td>1</td>\n",
       "      <td>4.817.566</td>\n",
       "      <td>1.157.174</td>\n",
       "      <td>41.621.419.913.503</td>\n",
       "      <td>...</td>\n",
       "      <td>DE</td>\n",
       "      <td>NaN</td>\n",
       "      <td>NaN</td>\n",
       "      <td>NaN</td>\n",
       "      <td>{\"wc_shortname\":\"ba-george1WC1\",\"wc_plan\":\"ba-...</td>\n",
       "      <td>{\"image_small\":\"images\\/wc-af\\/ba-george1WC1f1...</td>\n",
       "      <td>{\"0\":\"4\",\"1\":\"11\"}</td>\n",
       "      <td>1</td>\n",
       "      <td>3/3/2015 16:25</td>\n",
       "      <td>09/08/2021 09:21</td>\n",
       "    </tr>\n",
       "    <tr>\n",
       "      <th>2</th>\n",
       "      <td>WC Bad Georgenschwaige Herren</td>\n",
       "      <td>wc-bad-georgenschwaige-herren</td>\n",
       "      <td>toilet</td>\n",
       "      <td>187</td>\n",
       "      <td>Bedingt Ã¶ffentliche Toilette in einem Freibad.</td>\n",
       "      <td>&lt;p&gt;Das &lt;strong&gt;Herren-WC ist im Umkleidebau&lt;/s...</td>\n",
       "      <td>1</td>\n",
       "      <td>4.817.566</td>\n",
       "      <td>1.157.174</td>\n",
       "      <td>41.621.419.913.503</td>\n",
       "      <td>...</td>\n",
       "      <td>DE</td>\n",
       "      <td>NaN</td>\n",
       "      <td>NaN</td>\n",
       "      <td>NaN</td>\n",
       "      <td>{\"wc_shortname\":\"ba-george1WC2\",\"wc_plan\":\"ba-...</td>\n",
       "      <td>{\"image_small\":\"images\\/wc-af\\/ba-george1WC2f1...</td>\n",
       "      <td>{\"0\":\"6\",\"1\":\"20\"}</td>\n",
       "      <td>1</td>\n",
       "      <td>3/3/2015 16:37</td>\n",
       "      <td>09/08/2021 09:21</td>\n",
       "    </tr>\n",
       "    <tr>\n",
       "      <th>3</th>\n",
       "      <td>WC Freibad Unterhaching</td>\n",
       "      <td>wc-freibad-unterhaching</td>\n",
       "      <td>toilet</td>\n",
       "      <td>212</td>\n",
       "      <td>Bedingt Ã¶ffentliche Toilette mit Dusche in ei...</td>\n",
       "      <td>&lt;p&gt;Das rollstuhlgerechte WC des Unterhachinger...</td>\n",
       "      <td>1</td>\n",
       "      <td>480.619.761</td>\n",
       "      <td>116.208.199</td>\n",
       "      <td>41.706.291.906.759</td>\n",
       "      <td>...</td>\n",
       "      <td>Deutschland</td>\n",
       "      <td>089 6 11 40 51</td>\n",
       "      <td>NaN</td>\n",
       "      <td>NaN</td>\n",
       "      <td>{\"wc_shortname\":\"ba-unterh1WC\",\"wc_plan\":\"ba-u...</td>\n",
       "      <td>{\"image_small\":\"images\\/wc-af\\/ba-unterh1WC1f1...</td>\n",
       "      <td>{\"0\":\"4\",\"1\":\"8\",\"2\":\"11\"}</td>\n",
       "      <td>1</td>\n",
       "      <td>3/3/2015 17:08</td>\n",
       "      <td>10/06/2021 08:10</td>\n",
       "    </tr>\n",
       "    <tr>\n",
       "      <th>4</th>\n",
       "      <td>WC U-Bahnhof MÃ¼nchner Freiheit</td>\n",
       "      <td>wc-bahnhof-muenchner-freiheit</td>\n",
       "      <td>toilet</td>\n",
       "      <td>188</td>\n",
       "      <td>Ã–ffentliche Toilette im U-Bahnhof, zugÃ¤nglic...</td>\n",
       "      <td>&lt;p&gt;Das rollstuhlgerechte WC des U-Bahnhofs MÃ¼...</td>\n",
       "      <td>1</td>\n",
       "      <td>481.622.924</td>\n",
       "      <td>115.870.025</td>\n",
       "      <td>41.629.998.019.931</td>\n",
       "      <td>...</td>\n",
       "      <td>DE</td>\n",
       "      <td>089 54 36 97 44</td>\n",
       "      <td>NaN</td>\n",
       "      <td>NaN</td>\n",
       "      <td>{\"wc_shortname\":\"bf-muefre1WC\",\"wc_plan\":\"bf-m...</td>\n",
       "      <td>{\"image_small\":\"images\\/wc-af\\/bf-muefre1WC1f1...</td>\n",
       "      <td>{\"0\":\"4\",\"1\":\"11\",\"2\":\"12\"}</td>\n",
       "      <td>1</td>\n",
       "      <td>4/3/2015 17:02</td>\n",
       "      <td>10/06/2021 08:09</td>\n",
       "    </tr>\n",
       "  </tbody>\n",
       "</table>\n",
       "<p>5 rows × 29 columns</p>\n",
       "</div>"
      ],
      "text/plain": [
       "                             title                          alias    type  \\\n",
       "0     WC U-Bahnhof Stiglmaierplatz     wc-bahnhof-stiglmaierplatz  toilet   \n",
       "1    WC Bad Georgenschwaige Damen    wc-bad-georgenschwaige-damen  toilet   \n",
       "2    WC Bad Georgenschwaige Herren  wc-bad-georgenschwaige-herren  toilet   \n",
       "3          WC Freibad Unterhaching        wc-freibad-unterhaching  toilet   \n",
       "4  WC U-Bahnhof MÃ¼nchner Freiheit  wc-bahnhof-muenchner-freiheit  toilet   \n",
       "\n",
       "   catid                                  short_description  \\\n",
       "0    188  Die behindertengerechte Toilette ist geschloss...   \n",
       "1    187    Bedingt Ã¶ffentliche Toilette in einem Freibad.   \n",
       "2    187    Bedingt Ã¶ffentliche Toilette in einem Freibad.   \n",
       "3    212  Bedingt Ã¶ffentliche Toilette mit Dusche in ei...   \n",
       "4    188  Ã–ffentliche Toilette im U-Bahnhof, zugÃ¤nglic...   \n",
       "\n",
       "                                         description  geodata     latitude  \\\n",
       "0                                                NaN        1  481.475.266   \n",
       "1  <p>Das <strong>Damen-WC</strong> ist im Umklei...        1    4.817.566   \n",
       "2  <p>Das <strong>Herren-WC ist im Umkleidebau</s...        1    4.817.566   \n",
       "3  <p>Das rollstuhlgerechte WC des Unterhachinger...        1  480.619.761   \n",
       "4  <p>Das rollstuhlgerechte WC des U-Bahnhofs MÃ¼...        1  481.622.924   \n",
       "\n",
       "     longitude               geo_x  ...      country            phone  \\\n",
       "0  115.586.581  41.646.198.670.958  ...           DE   089 3 56 88 08   \n",
       "1    1.157.174  41.621.419.913.503  ...           DE              NaN   \n",
       "2    1.157.174  41.621.419.913.503  ...           DE              NaN   \n",
       "3  116.208.199  41.706.291.906.759  ...  Deutschland   089 6 11 40 51   \n",
       "4  115.870.025  41.629.998.019.931  ...           DE  089 54 36 97 44   \n",
       "\n",
       "                                           url                 email  \\\n",
       "0  https://www.cbf-muenchen.de/der-cbf/kontakt  info@cbf-muenchen.de   \n",
       "1                                          NaN                   NaN   \n",
       "2                                          NaN                   NaN   \n",
       "3                                          NaN                   NaN   \n",
       "4                                          NaN                   NaN   \n",
       "\n",
       "                                   additional_fields  \\\n",
       "0  {\"wc_shortname\":\"bf-stiglm1WC\",\"wc_plan\":\"bf-s...   \n",
       "1  {\"wc_shortname\":\"ba-george1WC1\",\"wc_plan\":\"ba-...   \n",
       "2  {\"wc_shortname\":\"ba-george1WC2\",\"wc_plan\":\"ba-...   \n",
       "3  {\"wc_shortname\":\"ba-unterh1WC\",\"wc_plan\":\"ba-u...   \n",
       "4  {\"wc_shortname\":\"bf-muefre1WC\",\"wc_plan\":\"bf-m...   \n",
       "\n",
       "                                               image  \\\n",
       "0  {\"image_small\":\"images\\/wc-af\\/a-WC-verschwund...   \n",
       "1  {\"image_small\":\"images\\/wc-af\\/ba-george1WC1f1...   \n",
       "2  {\"image_small\":\"images\\/wc-af\\/ba-george1WC2f1...   \n",
       "3  {\"image_small\":\"images\\/wc-af\\/ba-unterh1WC1f1...   \n",
       "4  {\"image_small\":\"images\\/wc-af\\/bf-muefre1WC1f1...   \n",
       "\n",
       "                         icons published         created          modified  \n",
       "0                   {\"0\":\"21\"}         0  3/3/2015 15:09  10/06/2021 08:10  \n",
       "1           {\"0\":\"4\",\"1\":\"11\"}         1  3/3/2015 16:25  09/08/2021 09:21  \n",
       "2           {\"0\":\"6\",\"1\":\"20\"}         1  3/3/2015 16:37  09/08/2021 09:21  \n",
       "3   {\"0\":\"4\",\"1\":\"8\",\"2\":\"11\"}         1  3/3/2015 17:08  10/06/2021 08:10  \n",
       "4  {\"0\":\"4\",\"1\":\"11\",\"2\":\"12\"}         1  4/3/2015 17:02  10/06/2021 08:09  \n",
       "\n",
       "[5 rows x 29 columns]"
      ]
     },
     "execution_count": 139,
     "metadata": {},
     "output_type": "execute_result"
    }
   ],
   "source": [
    "df.head()"
   ]
  },
  {
   "cell_type": "code",
   "execution_count": 140,
   "id": "efdecdd2",
   "metadata": {},
   "outputs": [],
   "source": [
    "df.drop(df[(df[\"latitude\"] == 0)].index, inplace=True)"
   ]
  },
  {
   "cell_type": "code",
   "execution_count": 141,
   "id": "da2e5beb",
   "metadata": {},
   "outputs": [],
   "source": [
    "df = df[df[\"published\"] == 1]"
   ]
  },
  {
   "cell_type": "code",
   "execution_count": 142,
   "id": "e14ef857",
   "metadata": {},
   "outputs": [],
   "source": [
    "df = df[['title', 'short_description', 'description', 'latitude', 'longitude', 'address', 'addr_no', \n",
    "         'zip_code', 'city', 'country', 'additional_fields', 'image', 'icons', 'modified']]"
   ]
  },
  {
   "cell_type": "code",
   "execution_count": null,
   "id": "98a3b980",
   "metadata": {},
   "outputs": [],
   "source": []
  },
  {
   "cell_type": "code",
   "execution_count": 143,
   "id": "f70b4e50",
   "metadata": {},
   "outputs": [],
   "source": [
    "import json\n",
    "df[\"additional_fields\"] = df[\"additional_fields\"].map(lambda x: json.loads(x))\n",
    "df[\"image\"] = df[\"image\"].map(lambda x: json.loads(x))"
   ]
  },
  {
   "cell_type": "code",
   "execution_count": 144,
   "id": "ca344585",
   "metadata": {},
   "outputs": [],
   "source": [
    "df = df[df['latitude'].notna()]"
   ]
  },
  {
   "cell_type": "code",
   "execution_count": 145,
   "id": "584e809c",
   "metadata": {},
   "outputs": [],
   "source": [
    "from pandas import isnull\n",
    "df[\"icons\"] = df[\"icons\"].map(lambda x: {} if isnull(x) else x)\n",
    "df[\"icons\"] = df[\"icons\"].map(lambda x: x if isinstance(x, str) else str(x))\n",
    "df[\"icons\"] = df[\"icons\"].map(lambda x: json.loads(x))"
   ]
  },
  {
   "cell_type": "code",
   "execution_count": 146,
   "id": "d887b710",
   "metadata": {},
   "outputs": [],
   "source": [
    "df[\"modified\"] = pd.to_datetime(df[\"modified\"], errors=\"coerce\")"
   ]
  },
  {
   "cell_type": "code",
   "execution_count": 147,
   "id": "ecce9fef",
   "metadata": {},
   "outputs": [],
   "source": [
    "df['longitude'] = df['longitude'].map(lambda x: x.replace('.', \"\")[:6]).astype(float) / 10000\n",
    "df['latitude'] = df['latitude'].map(lambda x: x.replace('.', \"\")[:6]).astype(float) / 10000"
   ]
  },
  {
   "cell_type": "code",
   "execution_count": 148,
   "id": "8ab4c3f2",
   "metadata": {},
   "outputs": [],
   "source": [
    "df[\"description\"] = df[\"description\"].map(lambda x: \"\" if isnull(x) else x)\n",
    "df[\"short_description\"] = df[\"short_description\"].map(lambda x: \"\" if isnull(x) else x)\n",
    "df[\"addr_no\"] = df[\"addr_no\"].map(lambda x: \"\" if isnull(x) else x)"
   ]
  },
  {
   "cell_type": "code",
   "execution_count": 149,
   "id": "6dec452b",
   "metadata": {},
   "outputs": [],
   "source": [
    "df[\"address\"] = df[\"address\"] + \" \" + df[\"addr_no\"]"
   ]
  },
  {
   "cell_type": "code",
   "execution_count": 150,
   "id": "27ff23ca",
   "metadata": {},
   "outputs": [],
   "source": [
    "df.drop([\"addr_no\"], axis=1, inplace=True)"
   ]
  },
  {
   "cell_type": "code",
   "execution_count": 151,
   "id": "a46e2935",
   "metadata": {},
   "outputs": [],
   "source": [
    "df[\"position\"] = None\n",
    "for i in df.index:\n",
    "    df.at[i, 'position'] = (df.loc[i]['latitude'], df.loc[i]['longitude'])"
   ]
  },
  {
   "cell_type": "code",
   "execution_count": 152,
   "id": "eb133c01",
   "metadata": {},
   "outputs": [],
   "source": [
    "icons = {\"Toilette für Alle\": 10, \"Rolli WC\": 11, \"Rolli WC -DIN fern\": 20, \"WC eng\": 17, \"kein Rolli WC vorhanden\": 21,\n",
    "        \"Parken\": 7, \"Stufe\": 1, \"WC - unisex\": 4, \"WC getrennt\": 6, \"Rollstuhl\": 5, \"Lift groß\": 12, \"Lift klein\": 13,\n",
    "        \"Kino-Untertitel\": 15, \"Induktionsschleife\": 14, \"low-vision\": 18, \"kognitiv beeinträchtigt\": 19, \"Umkleide\": 9,\n",
    "        \"Dusche\": 8, \"nicht rollstuhlgerecht\": 16, \"Rampe\": 2, \"keine Steigung - eben\": 26, \"moderate Steigung / Gefälle\": 22,\n",
    "        \"weitere moderate Steigungen / Gefälle\": 23, \"heftige Steigung / Gefälle\": 25, \"weitere heftige Steigung / Gefälle\": 24}\n",
    "new_dict = {v: k for k, v in icons.items()}\n",
    "new_dict.update({40: \"Euro Key\", 41: \"Ramp Incline\", 42: \"Door Width\"})"
   ]
  },
  {
   "cell_type": "code",
   "execution_count": 153,
   "id": "3c9211ac",
   "metadata": {},
   "outputs": [],
   "source": [
    "df[\"icons\"] = df[\"icons\"].map(lambda x: tuple(map(int, list(x.values()))))"
   ]
  },
  {
   "cell_type": "code",
   "execution_count": 154,
   "id": "21f4ee5e",
   "metadata": {},
   "outputs": [],
   "source": [
    "df[40] = df[\"additional_fields\"].map(lambda x: x[\"wc_euro\"] if \"wc_euro\" in x.keys() else \"0\")\n",
    "df[40] = df[40].map(lambda x: int(x) if x in [\"1\", \"0\"] else 0)"
   ]
  },
  {
   "cell_type": "code",
   "execution_count": 155,
   "id": "f21d5e24",
   "metadata": {},
   "outputs": [],
   "source": [
    "def isfloat(value):\n",
    "  try:\n",
    "    float(value)\n",
    "    return True\n",
    "  except ValueError:\n",
    "    return False\n",
    "\n",
    "df[41] = df[\"additional_fields\"].map(lambda x: x[\"wc_ramp_incline\"])\n",
    "df[41] = df[41].map(lambda x: x.replace(\",\",\".\"))\n",
    "df[41] = df[41].map(lambda x: float(x) if isfloat(x) else 0)\n",
    "#need to check further as some have extra text"
   ]
  },
  {
   "cell_type": "code",
   "execution_count": 156,
   "id": "9b4f0bb5",
   "metadata": {},
   "outputs": [],
   "source": [
    "df[42] = df[\"additional_fields\"].map(lambda x: x[\"wc_door_width\"])\n",
    "df[42] = df[42].map(lambda x: int(x) if x != \"\" else 150)\n",
    "df[42] = df[42].map(lambda x: x if x > 15 else x*10)"
   ]
  },
  {
   "cell_type": "code",
   "execution_count": 157,
   "id": "0e8adda4",
   "metadata": {},
   "outputs": [
    {
     "name": "stderr",
     "output_type": "stream",
     "text": [
      "/tmp/ipykernel_63985/3753455811.py:1: FutureWarning: Using the level keyword in DataFrame and Series aggregations is deprecated and will be removed in a future version. Use groupby instead. df.sum(level=1) should use df.groupby(level=1).sum().\n",
      "  x = pd.get_dummies(df.icons.apply(pd.Series).stack()).sum(level=0)\n"
     ]
    }
   ],
   "source": [
    "x = pd.get_dummies(df.icons.apply(pd.Series).stack()).sum(level=0)\n",
    "x = x.rename(int, axis=\"columns\")\n",
    "col = list(x.columns)\n",
    "for i in [40, 41, 42]:\n",
    "    col.append(i)"
   ]
  },
  {
   "cell_type": "code",
   "execution_count": 158,
   "id": "91a48797",
   "metadata": {},
   "outputs": [],
   "source": [
    "df = df.rename(columns={40:\"eurokey\", 41: \"ramp_steepness\", 42: \"door_width\"})"
   ]
  },
  {
   "cell_type": "code",
   "execution_count": 159,
   "id": "1d2c68ae",
   "metadata": {},
   "outputs": [],
   "source": [
    "df[\"photo\"] = df[\"image\"].map(lambda x: x[\"image_small\"])\n",
    "df[\"plan\"] = df[\"additional_fields\"].map(lambda x: \"images/wc-plan/\" + x[\"wc_plan\"] + \".jpg\")\n",
    "#df[\"seat_height\"] = df[\"additional_fields\"].map(lambda x: x[\"wc_seat\"])"
   ]
  },
  {
   "cell_type": "code",
   "execution_count": 160,
   "id": "6c9016ac",
   "metadata": {},
   "outputs": [],
   "source": [
    "df = df.drop(df.loc[df['icons'].isin([(21,)])].index)"
   ]
  },
  {
   "cell_type": "code",
   "execution_count": 161,
   "id": "b9891148",
   "metadata": {},
   "outputs": [],
   "source": [
    "df[\"grip\"] = df[\"additional_fields\"].map(lambda x:x[\"wc_wheregrip\"])"
   ]
  },
  {
   "cell_type": "markdown",
   "id": "e1973cf9",
   "metadata": {},
   "source": [
    "lr = flexible left & flexible right\n",
    "\n",
    "l = flexible left\n",
    "\n",
    "rfl & flr = fixed left and flexible right\n",
    "\n",
    "fr = fixed right\n",
    "\n",
    "none = no grip\n",
    "\n",
    "lfr = flexible left and fixed right\n",
    "\n",
    "r = flexible right\n",
    "\n",
    "fl = fixed left"
   ]
  },
  {
   "cell_type": "code",
   "execution_count": 177,
   "id": "00fd0bf4",
   "metadata": {
    "scrolled": true
   },
   "outputs": [
    {
     "data": {
      "text/plain": [
       "{'wc_shortname': 'bf-huglfi1WC1',\n",
       " 'wc_plan': 'bf-huglfi1WC1',\n",
       " 'wc_fotos': 'bf-huglfi1WC1f1, bf-huglfi1WC1f4',\n",
       " 'wc_location': 'Vor dem Häuschen ist eine Zickzack-Rampe. Zwischen den beiden Rampenteilen und auch vor der Tür ist ein Podest. Auf einer Seite ist je eine Haltestange montiert.',\n",
       " 'wc_ramp_length': '2,5 m + 3,5',\n",
       " 'wc_ramp_incline': '7,5% + 6',\n",
       " 'wc_infos': 'An der Tür zur behindertengerechten bzw. rollstuhlgerechten Toilette ist ein Euroschloss angebracht.<br />Das Waschbecken, gegenüber von der Tür, ist auf 67 cm unterfahrbar. Die Waschbeckenoberkante ist in 85 cm Höhe. <br />Über dem Waschbecken hängt - sehr hoch - ein Spiegel in 145 cm Höhe.',\n",
       " 'wc_easy': 'Die Toilette ist gut. \\r\\nDer WC-Sitz ist etwas hoch.\\r\\nMan kann den WC-Sitz von der rechten Seite und von vorn anfahren.',\n",
       " 'wc_euro': '1',\n",
       " 'wc_doorknob': '100',\n",
       " 'wc_doortaster': '',\n",
       " 'wc_dooropens': 'ar',\n",
       " 'wc_doorautopen': 'nz',\n",
       " 'wc_door_width': '90',\n",
       " 'wc_room_diameter': '150',\n",
       " 'wc_roominfos': 'An der Tür zur behindertengerechten bzw. rollstuhlgerechten Toilette ist ein Euroschloss angebracht.<br />Das Waschbecken, gegenüber von der Tür, ist auf 67 cm unterfahrbar. Die Waschbeckenoberkante ist in 85 cm Höhe. <br />Über dem Waschbecken hängt - sehr hoch - ein Spiegel in 145 cm Höhe.',\n",
       " 'wc_seat': '51',\n",
       " 'wc_accessleft': '60',\n",
       " 'wc_accessright': '100',\n",
       " 'wc_numgrip': 'zwei',\n",
       " 'wc_wheregrip': 'lr',\n",
       " 'wc_addinfo': 'Die Spültaste ist hinter dem WC-Becken in 110 cm Höhe.'}"
      ]
     },
     "execution_count": 177,
     "metadata": {},
     "output_type": "execute_result"
    }
   ],
   "source": [
    "df[df[\"title\"] == \"WC Bahnhof Huglfing\"][\"additional_fields\"][1039]"
   ]
  },
  {
   "cell_type": "code",
   "execution_count": 165,
   "id": "048f4cef",
   "metadata": {},
   "outputs": [
    {
     "data": {
      "text/plain": [
       "{'image_small': 'images/wc-af/ba-george1WC1f1.jpg',\n",
       " 'image': 'images/wc-header/ba-george1WC1f2q.jpg',\n",
       " 'alt': 'Bad Georgenschwaige',\n",
       " 'caption': 'DamenWC Wasch- und WC-Becken.',\n",
       " 'width': '100%',\n",
       " 'height': '0'}"
      ]
     },
     "execution_count": 165,
     "metadata": {},
     "output_type": "execute_result"
    }
   ],
   "source": [
    "df[\"image\"][1]"
   ]
  },
  {
   "cell_type": "code",
   "execution_count": 168,
   "id": "d53969b3",
   "metadata": {},
   "outputs": [],
   "source": [
    "df[\"access\"] = df[\"additional_fields\"].map(lambda x:x[\"wc_infos\"])\n",
    "df[\"interior_description\"] = df[\"additional_fields\"].map(lambda x:x[\"wc_roominfos\"])\n",
    "df[\"wc_details\"] = df[\"additional_fields\"].map(lambda x:x[\"wc_addinfo\"])\n",
    "df[\"wc_accessleft\"] = df[\"additional_fields\"].map(lambda x:x[\"wc_accessleft\"])\n",
    "df[\"wc_accessright\"] = df[\"additional_fields\"].map(lambda x:x[\"wc_accessright\"])\n",
    "#df[\"wc_seat\"] = df[\"additional_fields\"].map(lambda x:x[\"wc_seat\"])\n",
    "#df[\"wc_easy\"] = df[\"additional_fields\"].map(lambda x:x[\"wc_easy\"])"
   ]
  },
  {
   "cell_type": "code",
   "execution_count": 169,
   "id": "a16fcbf3",
   "metadata": {},
   "outputs": [],
   "source": [
    "#df[\"wc_seat\"] = df[\"wc_seat\"].map(lambda x: int(x[-2:]) if x[-2:] != \"\" else None)"
   ]
  },
  {
   "cell_type": "code",
   "execution_count": 170,
   "id": "3ce55673",
   "metadata": {},
   "outputs": [],
   "source": [
    "#df[df[\"wc_seat\"] == \",5\"]"
   ]
  },
  {
   "cell_type": "code",
   "execution_count": 171,
   "id": "6a7586c2",
   "metadata": {},
   "outputs": [],
   "source": [
    "df = df.rename(columns={\"description\": \"direction\"})"
   ]
  },
  {
   "cell_type": "code",
   "execution_count": 109,
   "id": "c2baa068",
   "metadata": {},
   "outputs": [
    {
     "data": {
      "text/plain": [
       "'Die Toilette ist sehr gut.\\r\\nEs gibt eine Pflegeliege und einen Lifter.\\r\\n'"
      ]
     },
     "execution_count": 109,
     "metadata": {},
     "output_type": "execute_result"
    }
   ],
   "source": [
    "df[\"additional_fields\"][600][\"wc_easy\"]"
   ]
  },
  {
   "cell_type": "code",
   "execution_count": 172,
   "id": "3aac3a39",
   "metadata": {},
   "outputs": [
    {
     "name": "stdout",
     "output_type": "stream",
     "text": [
      "<class 'pandas.core.frame.DataFrame'>\n",
      "Int64Index: 1040 entries, 1 to 1091\n",
      "Data columns (total 25 columns):\n",
      " #   Column                Non-Null Count  Dtype         \n",
      "---  ------                --------------  -----         \n",
      " 0   title                 1040 non-null   object        \n",
      " 1   short_description     1040 non-null   object        \n",
      " 2   direction             1040 non-null   object        \n",
      " 3   latitude              1040 non-null   float64       \n",
      " 4   longitude             1040 non-null   float64       \n",
      " 5   address               1040 non-null   object        \n",
      " 6   zip_code              1040 non-null   int64         \n",
      " 7   city                  1040 non-null   object        \n",
      " 8   country               1040 non-null   object        \n",
      " 9   additional_fields     1040 non-null   object        \n",
      " 10  image                 1040 non-null   object        \n",
      " 11  icons                 1040 non-null   object        \n",
      " 12  modified              1029 non-null   datetime64[ns]\n",
      " 13  position              1040 non-null   object        \n",
      " 14  eurokey               1040 non-null   int64         \n",
      " 15  ramp_steepness        1040 non-null   float64       \n",
      " 16  door_width            1040 non-null   int64         \n",
      " 17  photo                 1040 non-null   object        \n",
      " 18  plan                  1040 non-null   object        \n",
      " 19  grip                  1040 non-null   object        \n",
      " 20  access                1040 non-null   object        \n",
      " 21  interior_description  1040 non-null   object        \n",
      " 22  wc_details            1040 non-null   object        \n",
      " 23  wc_accessleft         1040 non-null   object        \n",
      " 24  wc_accessright        1040 non-null   object        \n",
      "dtypes: datetime64[ns](1), float64(3), int64(3), object(18)\n",
      "memory usage: 243.5+ KB\n"
     ]
    }
   ],
   "source": [
    "df.info()"
   ]
  },
  {
   "cell_type": "code",
   "execution_count": 31,
   "id": "d08249fd",
   "metadata": {},
   "outputs": [],
   "source": [
    "df = df[[\"title\", \"short_description\", \"photo\", \"plan\", \"position\", \"address\", \"eurokey\", \"ramp_steepness\", \"door_width\", \"modified\",\n",
    "         \"zip_code\", \"city\", \"grip\", \"direction\", \"access\", \"interior_description\", \"wc_details\", \"wc_accessright\", \"wc_accessleft\"]]"
   ]
  },
  {
   "cell_type": "code",
   "execution_count": 32,
   "id": "4649b0bc",
   "metadata": {},
   "outputs": [],
   "source": [
    "errors = pd.read_excel(\"toilets_text errors.xlsx\")"
   ]
  },
  {
   "cell_type": "code",
   "execution_count": 33,
   "id": "396c5fcf",
   "metadata": {},
   "outputs": [],
   "source": [
    "errors.dropna(inplace=True)"
   ]
  },
  {
   "cell_type": "code",
   "execution_count": 34,
   "id": "bb4a507c",
   "metadata": {},
   "outputs": [
    {
     "data": {
      "text/plain": [
       "['Ãœ', 'Ã¼', 'Ã–', 'Ã¶', 'Ã„', 'Ã¤', 'ÃŸ', 'Ã©', 'Ã¨', 'Ã‡', 'â€“']"
      ]
     },
     "execution_count": 34,
     "metadata": {},
     "output_type": "execute_result"
    }
   ],
   "source": [
    "list(errors[\"Text error\"])"
   ]
  },
  {
   "cell_type": "code",
   "execution_count": 35,
   "id": "d1a2b5d3",
   "metadata": {},
   "outputs": [],
   "source": [
    "import re\n",
    "\n",
    "errors = pd.Series(errors[\"correction\"].values,index=errors[\"Text error\"]).to_dict()\n",
    "\n",
    "# use these three lines to do the replacement\n",
    "rep = dict((re.escape(k), v) for k, v in errors.items()) \n",
    "#Python 3 renamed dict.iteritems to dict.items so use rep.items() for latest versions\n",
    "pattern = re.compile(\"|\".join(rep.keys()))"
   ]
  },
  {
   "cell_type": "code",
   "execution_count": 36,
   "id": "0b058197",
   "metadata": {},
   "outputs": [],
   "source": [
    "df[\"short_description\"] = df[\"short_description\"].map(lambda x: pattern.sub(lambda m: rep[re.escape(m.group(0))], x))\n",
    "df[\"title\"] = df[\"title\"].map(lambda x: pattern.sub(lambda m: rep[re.escape(m.group(0))], x))\n",
    "df[\"address\"] = df[\"address\"].map(lambda x: pattern.sub(lambda m: rep[re.escape(m.group(0))], x))\n",
    "df[\"city\"] = df[\"city\"].map(lambda x: pattern.sub(lambda m: rep[re.escape(m.group(0))], x))\n",
    "df[\"direction\"] = df[\"direction\"].map(lambda x: pattern.sub(lambda m: rep[re.escape(m.group(0))], x))\n",
    "df[\"access\"] = df[\"access\"].map(lambda x: pattern.sub(lambda m: rep[re.escape(m.group(0))], x))\n",
    "df[\"interior_description\"] = df[\"interior_description\"].map(lambda x: pattern.sub(lambda m: rep[re.escape(m.group(0))], x))\n",
    "df[\"wc_details\"] = df[\"wc_details\"].map(lambda x: pattern.sub(lambda m: rep[re.escape(m.group(0))], x))"
   ]
  },
  {
   "cell_type": "code",
   "execution_count": 37,
   "id": "b1936676",
   "metadata": {},
   "outputs": [],
   "source": [
    "def remove_html_tags(text):\n",
    "    \"\"\"Remove html tags from a string\"\"\"\n",
    "    import re\n",
    "    clean = re.compile('<.*?>')\n",
    "    return re.sub(clean, '', text)"
   ]
  },
  {
   "cell_type": "code",
   "execution_count": 38,
   "id": "3c433e60",
   "metadata": {},
   "outputs": [],
   "source": [
    "df[\"direction\"] = df[\"direction\"].map(lambda x:remove_html_tags(x))\n",
    "df[\"access\"] = df[\"access\"].map(lambda x:remove_html_tags(x))\n",
    "df[\"interior_description\"] = df[\"interior_description\"].map(lambda x:remove_html_tags(x))\n",
    "df[\"wc_details\"] = df[\"wc_details\"].map(lambda x:remove_html_tags(x))"
   ]
  },
  {
   "cell_type": "code",
   "execution_count": 39,
   "id": "0cd01b75",
   "metadata": {},
   "outputs": [],
   "source": [
    "df[\"id\"] = df.index"
   ]
  },
  {
   "cell_type": "code",
   "execution_count": 40,
   "id": "28b2077e",
   "metadata": {},
   "outputs": [
    {
     "data": {
      "text/html": [
       "<div>\n",
       "<style scoped>\n",
       "    .dataframe tbody tr th:only-of-type {\n",
       "        vertical-align: middle;\n",
       "    }\n",
       "\n",
       "    .dataframe tbody tr th {\n",
       "        vertical-align: top;\n",
       "    }\n",
       "\n",
       "    .dataframe thead th {\n",
       "        text-align: right;\n",
       "    }\n",
       "</style>\n",
       "<table border=\"1\" class=\"dataframe\">\n",
       "  <thead>\n",
       "    <tr style=\"text-align: right;\">\n",
       "      <th></th>\n",
       "      <th>title</th>\n",
       "      <th>short_description</th>\n",
       "      <th>photo</th>\n",
       "      <th>plan</th>\n",
       "      <th>position</th>\n",
       "      <th>address</th>\n",
       "      <th>eurokey</th>\n",
       "      <th>ramp_steepness</th>\n",
       "      <th>door_width</th>\n",
       "      <th>modified</th>\n",
       "      <th>zip_code</th>\n",
       "      <th>city</th>\n",
       "      <th>grip</th>\n",
       "      <th>direction</th>\n",
       "      <th>access</th>\n",
       "      <th>interior_description</th>\n",
       "      <th>wc_details</th>\n",
       "      <th>wc_accessright</th>\n",
       "      <th>wc_accessleft</th>\n",
       "      <th>id</th>\n",
       "    </tr>\n",
       "  </thead>\n",
       "  <tbody>\n",
       "    <tr>\n",
       "      <th>1</th>\n",
       "      <td>WC Bad Georgenschwaige Damen</td>\n",
       "      <td>Bedingt öffentliche Toilette in einem Freibad.</td>\n",
       "      <td>images/wc-af/ba-george1WC1f1.jpg</td>\n",
       "      <td>images/wc-plan/ba-george1WC1.jpg</td>\n",
       "      <td>(48.1756, 11.5717)</td>\n",
       "      <td>Belgradstr. 195</td>\n",
       "      <td>0</td>\n",
       "      <td>0.0</td>\n",
       "      <td>85</td>\n",
       "      <td>2021-09-08 09:21:00</td>\n",
       "      <td>80804</td>\n",
       "      <td>München</td>\n",
       "      <td>lr</td>\n",
       "      <td>Das Damen-WC ist im Umkleidebau, ganz hinten l...</td>\n",
       "      <td></td>\n",
       "      <td>Das Waschbecken ist außerhalb des WC-Raums, di...</td>\n",
       "      <td>Seitlich hinter dem WC ist auf 100 cm ein Tast...</td>\n",
       "      <td>93</td>\n",
       "      <td>85</td>\n",
       "      <td>1</td>\n",
       "    </tr>\n",
       "    <tr>\n",
       "      <th>2</th>\n",
       "      <td>WC Bad Georgenschwaige Herren</td>\n",
       "      <td>Bedingt öffentliche Toilette in einem Freibad.</td>\n",
       "      <td>images/wc-af/ba-george1WC2f1.jpg</td>\n",
       "      <td>images/wc-plan/ba-george1WC2.jpg</td>\n",
       "      <td>(48.1756, 11.5717)</td>\n",
       "      <td>Belgradstr. 195</td>\n",
       "      <td>0</td>\n",
       "      <td>0.0</td>\n",
       "      <td>85</td>\n",
       "      <td>2021-09-08 09:21:00</td>\n",
       "      <td>80804</td>\n",
       "      <td>München</td>\n",
       "      <td>l</td>\n",
       "      <td>Das Herren-WC ist im Umkleidebau, ganz hinten ...</td>\n",
       "      <td></td>\n",
       "      <td>Das Waschbecken ist außerhalb des WC-Raums, di...</td>\n",
       "      <td>Rechts an der Wand ist in 80 cm Höhe die Spülu...</td>\n",
       "      <td></td>\n",
       "      <td>90</td>\n",
       "      <td>2</td>\n",
       "    </tr>\n",
       "    <tr>\n",
       "      <th>3</th>\n",
       "      <td>WC Freibad Unterhaching</td>\n",
       "      <td>Bedingt öffentliche Toilette mit Dusche in ein...</td>\n",
       "      <td>images/wc-af/ba-unterh1WC1f1.jpg</td>\n",
       "      <td>images/wc-plan/ba-unterh1WC.jpg</td>\n",
       "      <td>(48.0619, 11.6208)</td>\n",
       "      <td>Schrenkstr. 2</td>\n",
       "      <td>1</td>\n",
       "      <td>0.0</td>\n",
       "      <td>75</td>\n",
       "      <td>2021-10-06 08:10:00</td>\n",
       "      <td>82008</td>\n",
       "      <td>Unterhaching</td>\n",
       "      <td>lr</td>\n",
       "      <td>Das rollstuhlgerechte WC des Unterhachinger Fr...</td>\n",
       "      <td>Das WC-Becken ist schräg links gegenüber von d...</td>\n",
       "      <td>Zwischen Umkleide und Duschbad ist eine Schieb...</td>\n",
       "      <td></td>\n",
       "      <td>105</td>\n",
       "      <td>75</td>\n",
       "      <td>3</td>\n",
       "    </tr>\n",
       "    <tr>\n",
       "      <th>4</th>\n",
       "      <td>WC U-Bahnhof Münchner Freiheit</td>\n",
       "      <td>Öffentliche Toilette im U-Bahnhof, zugänglich ...</td>\n",
       "      <td>images/wc-af/bf-muefre1WC1f1.jpg</td>\n",
       "      <td>images/wc-plan/bf-muefre1WC1.jpg</td>\n",
       "      <td>(48.1622, 11.587)</td>\n",
       "      <td>Münchner Freiheit</td>\n",
       "      <td>1</td>\n",
       "      <td>0.0</td>\n",
       "      <td>85</td>\n",
       "      <td>2021-10-06 08:09:00</td>\n",
       "      <td>80802</td>\n",
       "      <td>München</td>\n",
       "      <td>lr</td>\n",
       "      <td>Das rollstuhlgerechte WC des U-Bahnhofs Münchn...</td>\n",
       "      <td></td>\n",
       "      <td>Der Bügel an der Türinnenseite ist eigentlich ...</td>\n",
       "      <td>Aus der Sitzposition gesehen hängt links vom W...</td>\n",
       "      <td>100</td>\n",
       "      <td>105</td>\n",
       "      <td>4</td>\n",
       "    </tr>\n",
       "    <tr>\n",
       "      <th>5</th>\n",
       "      <td>WC Dynasty Unterhaching</td>\n",
       "      <td>Halböffentliche Toilette in einem Lokal.</td>\n",
       "      <td>images/wc-af/dynast1WC1f1.jpg</td>\n",
       "      <td>images/wc-plan/dynast1WC.jpg</td>\n",
       "      <td>(48.0556, 11.6076)</td>\n",
       "      <td>Inselkammerstr. 3</td>\n",
       "      <td>0</td>\n",
       "      <td>0.0</td>\n",
       "      <td>90</td>\n",
       "      <td>2021-08-18 16:24:00</td>\n",
       "      <td>82008</td>\n",
       "      <td>Unterhaching</td>\n",
       "      <td>rfl</td>\n",
       "      <td>Auf dem Weg zum Haupteingang ist eine Schwelle...</td>\n",
       "      <td>Das WC befindet sich im Erdgeschoss des Lokals...</td>\n",
       "      <td></td>\n",
       "      <td></td>\n",
       "      <td>104</td>\n",
       "      <td></td>\n",
       "      <td>5</td>\n",
       "    </tr>\n",
       "  </tbody>\n",
       "</table>\n",
       "</div>"
      ],
      "text/plain": [
       "                            title  \\\n",
       "1   WC Bad Georgenschwaige Damen    \n",
       "2   WC Bad Georgenschwaige Herren   \n",
       "3         WC Freibad Unterhaching   \n",
       "4  WC U-Bahnhof Münchner Freiheit   \n",
       "5         WC Dynasty Unterhaching   \n",
       "\n",
       "                                   short_description  \\\n",
       "1     Bedingt öffentliche Toilette in einem Freibad.   \n",
       "2     Bedingt öffentliche Toilette in einem Freibad.   \n",
       "3  Bedingt öffentliche Toilette mit Dusche in ein...   \n",
       "4  Öffentliche Toilette im U-Bahnhof, zugänglich ...   \n",
       "5           Halböffentliche Toilette in einem Lokal.   \n",
       "\n",
       "                              photo                              plan  \\\n",
       "1  images/wc-af/ba-george1WC1f1.jpg  images/wc-plan/ba-george1WC1.jpg   \n",
       "2  images/wc-af/ba-george1WC2f1.jpg  images/wc-plan/ba-george1WC2.jpg   \n",
       "3  images/wc-af/ba-unterh1WC1f1.jpg   images/wc-plan/ba-unterh1WC.jpg   \n",
       "4  images/wc-af/bf-muefre1WC1f1.jpg  images/wc-plan/bf-muefre1WC1.jpg   \n",
       "5     images/wc-af/dynast1WC1f1.jpg      images/wc-plan/dynast1WC.jpg   \n",
       "\n",
       "             position             address  eurokey  ramp_steepness  \\\n",
       "1  (48.1756, 11.5717)     Belgradstr. 195        0             0.0   \n",
       "2  (48.1756, 11.5717)     Belgradstr. 195        0             0.0   \n",
       "3  (48.0619, 11.6208)       Schrenkstr. 2        1             0.0   \n",
       "4   (48.1622, 11.587)  Münchner Freiheit         1             0.0   \n",
       "5  (48.0556, 11.6076)   Inselkammerstr. 3        0             0.0   \n",
       "\n",
       "   door_width            modified  zip_code          city grip  \\\n",
       "1          85 2021-09-08 09:21:00     80804       München   lr   \n",
       "2          85 2021-09-08 09:21:00     80804       München    l   \n",
       "3          75 2021-10-06 08:10:00     82008  Unterhaching   lr   \n",
       "4          85 2021-10-06 08:09:00     80802       München   lr   \n",
       "5          90 2021-08-18 16:24:00     82008  Unterhaching  rfl   \n",
       "\n",
       "                                           direction  \\\n",
       "1  Das Damen-WC ist im Umkleidebau, ganz hinten l...   \n",
       "2  Das Herren-WC ist im Umkleidebau, ganz hinten ...   \n",
       "3  Das rollstuhlgerechte WC des Unterhachinger Fr...   \n",
       "4  Das rollstuhlgerechte WC des U-Bahnhofs Münchn...   \n",
       "5  Auf dem Weg zum Haupteingang ist eine Schwelle...   \n",
       "\n",
       "                                              access  \\\n",
       "1                                                      \n",
       "2                                                      \n",
       "3  Das WC-Becken ist schräg links gegenüber von d...   \n",
       "4                                                      \n",
       "5  Das WC befindet sich im Erdgeschoss des Lokals...   \n",
       "\n",
       "                                interior_description  \\\n",
       "1  Das Waschbecken ist außerhalb des WC-Raums, di...   \n",
       "2  Das Waschbecken ist außerhalb des WC-Raums, di...   \n",
       "3  Zwischen Umkleide und Duschbad ist eine Schieb...   \n",
       "4  Der Bügel an der Türinnenseite ist eigentlich ...   \n",
       "5                                                      \n",
       "\n",
       "                                          wc_details wc_accessright  \\\n",
       "1  Seitlich hinter dem WC ist auf 100 cm ein Tast...             93   \n",
       "2  Rechts an der Wand ist in 80 cm Höhe die Spülu...                  \n",
       "3                                                               105   \n",
       "4  Aus der Sitzposition gesehen hängt links vom W...            100   \n",
       "5                                                               104   \n",
       "\n",
       "  wc_accessleft  id  \n",
       "1            85   1  \n",
       "2            90   2  \n",
       "3            75   3  \n",
       "4           105   4  \n",
       "5                 5  "
      ]
     },
     "execution_count": 40,
     "metadata": {},
     "output_type": "execute_result"
    }
   ],
   "source": [
    "df.head()"
   ]
  },
  {
   "cell_type": "code",
   "execution_count": null,
   "id": "2fea8c69",
   "metadata": {},
   "outputs": [],
   "source": [
    "df.to_json(\"toilets_v14.json\")"
   ]
  },
  {
   "cell_type": "code",
   "execution_count": null,
   "id": "064b829d",
   "metadata": {},
   "outputs": [],
   "source": []
  },
  {
   "cell_type": "code",
   "execution_count": null,
   "id": "d6971edb",
   "metadata": {},
   "outputs": [],
   "source": []
  },
  {
   "cell_type": "code",
   "execution_count": null,
   "id": "b16fb9fe",
   "metadata": {},
   "outputs": [],
   "source": []
  },
  {
   "cell_type": "code",
   "execution_count": 179,
   "id": "773423c8",
   "metadata": {},
   "outputs": [
    {
     "data": {
      "text/plain": [
       "'new_images/background'"
      ]
     },
     "execution_count": 179,
     "metadata": {},
     "output_type": "execute_result"
    }
   ],
   "source": [
    "\"new_images/background.jpeg\".split(\".\")[0]"
   ]
  },
  {
   "cell_type": "code",
   "execution_count": null,
   "id": "5dfabd6e",
   "metadata": {},
   "outputs": [],
   "source": []
  }
 ],
 "metadata": {
  "kernelspec": {
   "display_name": "Python 3 (ipykernel)",
   "language": "python",
   "name": "python3"
  },
  "language_info": {
   "codemirror_mode": {
    "name": "ipython",
    "version": 3
   },
   "file_extension": ".py",
   "mimetype": "text/x-python",
   "name": "python",
   "nbconvert_exporter": "python",
   "pygments_lexer": "ipython3",
   "version": "3.8.10"
  }
 },
 "nbformat": 4,
 "nbformat_minor": 5
}
